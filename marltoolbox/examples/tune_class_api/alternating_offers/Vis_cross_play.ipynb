{
 "cells": [
  {
   "cell_type": "code",
   "execution_count": 96,
   "metadata": {},
   "outputs": [],
   "source": [
    "import os\n",
    "import pickle\n",
    "from tqdm import tqdm, trange\n",
    "import os\n",
    "import numpy as np\n",
    "from collections import defaultdict"
   ]
  },
  {
   "cell_type": "code",
   "execution_count": 97,
   "metadata": {},
   "outputs": [],
   "source": [
    "import seaborn as sns\n",
    "import matplotlib.pyplot as plt\n",
    "%matplotlib inline\n",
    "sns.set_style(\"darkgrid\")"
   ]
  },
  {
   "cell_type": "code",
   "execution_count": 105,
   "metadata": {},
   "outputs": [],
   "source": [
    "binding = True\n",
    "root_path = '/home/alexander/ray_results/cross_play_20K_episodes_binding/2021_03_23/12_37_37'\n",
    "\n",
    "# binding=False\n",
    "# root_path = 'home/alexander/ray_results/cross_play_20K_episodes_cheap/2021_03_24/05_30_06'\n",
    "\n",
    "results_filename = os.path.join('results', 'results_' + '_'.join(root_path.split('/')[-3:]) + '.pickle')\n",
    "results = pickle.load(open(results_filename, 'rb'))"
   ]
  },
  {
   "cell_type": "code",
   "execution_count": 106,
   "metadata": {},
   "outputs": [],
   "source": [
    "img_dir = results_filename[:-7]\n",
    "os.makedirs(img_dir, exist_ok=True)"
   ]
  },
  {
   "cell_type": "code",
   "execution_count": 107,
   "metadata": {},
   "outputs": [],
   "source": [
    "res_dict = defaultdict(list)\n",
    "for res in results:\n",
    "    res_dict[(res[0], res[1])].append(res[3])"
   ]
  },
  {
   "cell_type": "code",
   "execution_count": null,
   "metadata": {},
   "outputs": [],
   "source": [
    "for eval_regime_name, eval_regime_list in [\n",
    "    ('agents of the same type', \n",
    "        (('custom_vs_custom_1', 'custom_vs_custom_1'),  # normal eval\n",
    "        ('custom_vs_custom_1', 'custom_vs_custom_2'),)   # simplest (1)\n",
    "    ),\n",
    "    ('both have incorrect notions',\n",
    "        (\n",
    "           ('custom_vs_custom_1', 'default_vs_default'),  # 2.1\n",
    "           ('default_vs_default', 'custom_vs_custom_1'),   # 2.2\n",
    "           ('custom_vs_custom_1', 'custom_vs_custom_2'),  # as baseline\n",
    "        ),\n",
    "    ),\n",
    "    ('second has incorrect notions',\n",
    "        (\n",
    "           ('default_vs_custom', 'custom_vs_custom_1'),   # 3.1\n",
    "           ('custom_vs_custom_1', 'default_vs_custom'),  # 4.1\n",
    "           ('custom_vs_custom_1', 'custom_vs_custom_2'),  # as baseline\n",
    "        ),\n",
    "    ),\n",
    "    ('first has incorrect notions',\n",
    "        (\n",
    "           ('default_vs_default', 'default_vs_custom'),   # 3.2\n",
    "           ('default_vs_custom', 'default_vs_default'),  # 4.2\n",
    "           ('custom_vs_custom_1', 'custom_vs_custom_2'),  # as baseline\n",
    "        ),\n",
    "    ),\n",
    "]:\n",
    "    for xlabel, xarray, yarray in [\n",
    "        ('Utilities skew', np.arange(-1, 1.1, 0.4), np.arange(1, 7)),\n",
    "        ('Fairness coeff', np.arange(0.0, 0.7, 0.1), np.arange(7, 14)),\n",
    "        ('Prosociality level', np.arange(0, 1.1, 0.2), np.arange(14, 20)),\n",
    "        ('Hidden layer size', [5, 10, 20, 40, 80, 160], np.arange(20, 26))\n",
    "    ]:\n",
    "        plt.figure(figsize=(10, 7))\n",
    "        for agent_0_match_regime, agent_1_match_regime in eval_regime_list:\n",
    "#             welfare_vals = []\n",
    "#             welfare_stds = []\n",
    "            welfare_positive_vals = []\n",
    "            welfare_positive_stds = []\n",
    "            for y in yarray:\n",
    "                vals = np.array([res['sum_share_of_max'] for res in res_dict[((agent_0_match_regime, agent_1_match_regime), y)]])\n",
    "#                 welfare_vals.append(vals.mean())\n",
    "#                 welfare_stds.append(vals.mean(axis=1).std())\n",
    "                welfare_positive = (vals > 0)\n",
    "                welfare_positive_vals.append(welfare_positive.mean())\n",
    "                welfare_positive_stds.append(welfare_positive.mean(axis=1).std())\n",
    "#             plt.scatter(xarray, welfare_vals,\n",
    "#                         label=f'{agent_0_match_regime}, {agent_1_match_regime}')\n",
    "#             plt.errorbar(xarray, welfare_vals, yerr=welfare_stds)\n",
    "            plt.scatter(xarray, welfare_positive_vals,\n",
    "                        label=f'{agent_0_match_regime}, {agent_1_match_regime}')\n",
    "            plt.errorbar(xarray, welfare_positive_vals, yerr=welfare_positive_stds)\n",
    "            plt.ylim(0.3, 1)\n",
    "#             plt.ylabel('Welfare')\n",
    "            plt.ylabel('% of positive-welfare games')\n",
    "            plt.xlabel(xlabel)\n",
    "            suptitle = f'% of positive-welfare games vs {xlabel}, {\"Binding comms\" if binding else \"cheap comms\"}, {eval_regime_name}'\n",
    "            plt.suptitle(suptitle)\n",
    "            plt.legend()\n",
    "            plt.savefig(os.path.join(img_dir, suptitle + '.png'), bbox_inches='tight')\n",
    "os.system(f'tar -czvf {img_dir}.tar {img_dir}')"
   ]
  },
  {
   "cell_type": "code",
   "execution_count": null,
   "metadata": {},
   "outputs": [],
   "source": []
  },
  {
   "cell_type": "code",
   "execution_count": null,
   "metadata": {},
   "outputs": [],
   "source": []
  },
  {
   "cell_type": "code",
   "execution_count": null,
   "metadata": {},
   "outputs": [],
   "source": []
  }
 ],
 "metadata": {
  "kernelspec": {
   "display_name": "Python 3",
   "language": "python",
   "name": "python3"
  },
  "language_info": {
   "codemirror_mode": {
    "name": "ipython",
    "version": 3
   },
   "file_extension": ".py",
   "mimetype": "text/x-python",
   "name": "python",
   "nbconvert_exporter": "python",
   "pygments_lexer": "ipython3",
   "version": "3.8.5"
  }
 },
 "nbformat": 4,
 "nbformat_minor": 5
}
