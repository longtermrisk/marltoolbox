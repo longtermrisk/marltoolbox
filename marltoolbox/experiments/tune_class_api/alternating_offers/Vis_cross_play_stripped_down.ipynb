{
 "cells": [
  {
   "cell_type": "code",
   "execution_count": 2,
   "metadata": {},
   "outputs": [],
   "source": [
    "import os\n",
    "import pickle\n",
    "from tqdm import tqdm, trange\n",
    "import os\n",
    "import numpy as np\n",
    "from collections import defaultdict\n",
    "\n",
    "import seaborn as sns\n",
    "import matplotlib.pyplot as plt\n",
    "import matplotlib.colors as mcolors\n",
    "%matplotlib inline\n",
    "sns.set_style(\"darkgrid\")\n",
    "import matplotlib.cm as cm"
   ]
  },
  {
   "cell_type": "code",
   "execution_count": 3,
   "metadata": {},
   "outputs": [],
   "source": [
    "binding = True\n",
    "root_path = '/home/alexander/ray_results/cross_play_20K_episodes_binding/2021_03_23/12_37_37'\n",
    "\n",
    "results_filename = os.path.join('cross_play_evals', 'results_' + '_'.join(root_path.split('/')[-3:]) + '.pickle')\n",
    "results = pickle.load(open(results_filename, 'rb'))\n",
    "\n",
    "res_dict = defaultdict(list)\n",
    "\n",
    "for res in results:\n",
    "    res_dict[(res[0], res[1])].append(res[3])"
   ]
  },
  {
   "cell_type": "code",
   "execution_count": 4,
   "metadata": {},
   "outputs": [
    {
     "data": {
      "text/plain": [
       "1690"
      ]
     },
     "execution_count": 4,
     "metadata": {},
     "output_type": "execute_result"
    }
   ],
   "source": [
    "len(results)"
   ]
  },
  {
   "cell_type": "code",
   "execution_count": 5,
   "metadata": {},
   "outputs": [],
   "source": [
    "img_dir = results_filename[:-7]\n",
    "os.makedirs(img_dir, exist_ok=True)"
   ]
  },
  {
   "cell_type": "markdown",
   "metadata": {},
   "source": [
    "# Compute the normalization multiplier"
   ]
  },
  {
   "cell_type": "code",
   "execution_count": 6,
   "metadata": {},
   "outputs": [],
   "source": [
    "from itertools import product"
   ]
  },
  {
   "cell_type": "code",
   "execution_count": 7,
   "metadata": {},
   "outputs": [],
   "source": [
    "from marltoolbox.algos.alternating_offers.envs.alt_offers_env_sampling import generate_batch"
   ]
  },
  {
   "cell_type": "code",
   "execution_count": 12,
   "metadata": {},
   "outputs": [],
   "source": [
    "max_sums = []\n",
    "for i in range(150):\n",
    "    batch = generate_batch(128, ('uniform', 'uniform'))\n",
    "    for i in range(batch['pool'].numpy().shape[0]):\n",
    "        p = batch['pool'][i].numpy()\n",
    "        u0 = batch['utilities'][0][i].numpy()\n",
    "        u1 = batch['utilities'][1][i].numpy()\n",
    "\n",
    "        theor0 = (p*u0).sum()\n",
    "        theor1 = (p*u1).sum()\n",
    "\n",
    "        max_sum = 0\n",
    "        for dist in product(range(p[0]+1), range(p[1]+1), range(p[2]+1)):\n",
    "            cur_sum = 0\n",
    "            if theor0 != 0:\n",
    "                cur_sum += (u0 * dist / theor0).sum()\n",
    "            if theor1 != 0:\n",
    "                cur_sum += (u1 * (p-dist) / theor1).sum()\n",
    "            max_sum = max(cur_sum, max_sum)\n",
    "        max_sums.append(max_sum)"
   ]
  },
  {
   "cell_type": "code",
   "execution_count": 13,
   "metadata": {},
   "outputs": [
    {
     "data": {
      "text/plain": [
       "0.6617676741155896"
      ]
     },
     "execution_count": 13,
     "metadata": {},
     "output_type": "execute_result"
    }
   ],
   "source": [
    "np.array(max_sums).mean() / 2"
   ]
  },
  {
   "cell_type": "code",
   "execution_count": null,
   "metadata": {},
   "outputs": [],
   "source": []
  },
  {
   "cell_type": "code",
   "execution_count": 14,
   "metadata": {},
   "outputs": [],
   "source": [
    "ia_max_payoffs = []\n",
    "for ia_i, ia in enumerate(np.array(list(range(0, 7))) / 10):\n",
    "    cur_ia_max_payoffs = []\n",
    "    for batch_i in range(2):\n",
    "        batch = generate_batch(128, ('uniform', 'uniform'))\n",
    "        for i in range(batch['pool'].numpy().shape[0]):\n",
    "            p = batch['pool'][i].numpy()\n",
    "            u0 = batch['utilities'][0][i].numpy()\n",
    "            u1 = batch['utilities'][1][i].numpy()\n",
    "\n",
    "            theor0 = (p*u0).sum()\n",
    "            theor1 = (p*u1).sum()\n",
    "\n",
    "            max_payoffs = None\n",
    "            max_w = None\n",
    "            for dist in product(range(p[0]+1), range(p[1]+1), range(p[2]+1)):\n",
    "                p0 = 0\n",
    "                p1 = 0\n",
    "                if theor0 != 0:\n",
    "                    p0 = (u0 * dist / theor0).sum()\n",
    "                if theor1 != 0:\n",
    "                    p1 = (u1 * (p-dist) / theor1).sum()\n",
    "                w = p0 + p1 - abs(p0-p1) * ia\n",
    "                if max_payoffs is None or (w>max_w):\n",
    "                    max_w = w\n",
    "                    max_payoffs = (p0, p1)\n",
    "            cur_ia_max_payoffs.append(max_payoffs)\n",
    "    cur_ia_max_payoffs = np.array(cur_ia_max_payoffs).mean(axis=0)\n",
    "    ia_max_payoffs.append(cur_ia_max_payoffs)"
   ]
  },
  {
   "cell_type": "code",
   "execution_count": 15,
   "metadata": {},
   "outputs": [
    {
     "data": {
      "text/plain": [
       "[array([0.63323714, 0.70284478]),\n",
       " array([0.65156335, 0.66527079]),\n",
       " array([0.63419377, 0.66792891]),\n",
       " array([0.65066376, 0.66177138]),\n",
       " array([0.64841532, 0.65853541]),\n",
       " array([0.63429949, 0.66547324]),\n",
       " array([0.63989672, 0.67493354])]"
      ]
     },
     "execution_count": 15,
     "metadata": {},
     "output_type": "execute_result"
    }
   ],
   "source": [
    "ia_max_payoffs"
   ]
  },
  {
   "cell_type": "code",
   "execution_count": null,
   "metadata": {},
   "outputs": [],
   "source": []
  },
  {
   "cell_type": "code",
   "execution_count": 16,
   "metadata": {},
   "outputs": [],
   "source": [
    "ia_val_w_maximums = []\n",
    "for ia_val in (np.array(list(range(0, 7))) / 10):\n",
    "    max_sums = []\n",
    "    for i in range(10):\n",
    "        batch = generate_batch(128, ('uniform', 'uniform'))\n",
    "        for i in range(batch['pool'].numpy().shape[0]):\n",
    "            p = batch['pool'][i].numpy()\n",
    "            u0 = batch['utilities'][0][i].numpy()\n",
    "            u1 = batch['utilities'][1][i].numpy()\n",
    "\n",
    "            theor0 = (p*u0).sum()\n",
    "            theor1 = (p*u1).sum()\n",
    "#             print(theor0)\n",
    "#             print(theor1)\n",
    "            max_sum = 0\n",
    "            for dist in product(range(p[0]+1), range(p[1]+1), range(p[2]+1)):\n",
    "                cur_sum = 0\n",
    "                cur_0 = 0\n",
    "                cur_1 = 0\n",
    "                if theor0 != 0:\n",
    "                    cur_0 = (u0 * dist / theor0).sum()  # 0 value\n",
    "                if theor1 != 0:\n",
    "                    cur_1 = (u1 * (p-dist) / theor1).sum()  # 1 value\n",
    "                cur_sum = cur_0 + cur_1 - ia_val * np.abs(cur_0 - cur_1)\n",
    "                max_sum = max(cur_sum, max_sum)\n",
    "#                 print(cur_sum)\n",
    "            max_sums.append(max_sum)\n",
    "    ia_val_w_maximums.append(np.array(max_sums).mean())"
   ]
  },
  {
   "cell_type": "code",
   "execution_count": 17,
   "metadata": {},
   "outputs": [
    {
     "data": {
      "text/plain": [
       "[1.3277228414816684,\n",
       " 1.288817949887242,\n",
       " 1.2666184108700569,\n",
       " 1.2369702002467222,\n",
       " 1.2312854530810984,\n",
       " 1.1967540533284347,\n",
       " 1.2038686217517702]"
      ]
     },
     "execution_count": 17,
     "metadata": {},
     "output_type": "execute_result"
    }
   ],
   "source": [
    "ia_val_w_maximums"
   ]
  },
  {
   "cell_type": "code",
   "execution_count": null,
   "metadata": {},
   "outputs": [],
   "source": []
  },
  {
   "cell_type": "markdown",
   "metadata": {},
   "source": [
    "# Player 0 vs player 1 payoff plots in cross-play and self-play"
   ]
  },
  {
   "cell_type": "code",
   "execution_count": 18,
   "metadata": {},
   "outputs": [],
   "source": [
    "all_vals = []\n",
    "for eval_regime_name, eval_regime_list in [\n",
    "    ('placeholder_name',\n",
    "        (\n",
    "#            ('custom_vs_custom_1', 'default_vs_default'),  # 2.1\n",
    "           ('default_vs_default', 'custom_vs_custom_1'),   # 2.2\n",
    "            \n",
    "           ('custom_vs_custom_1', 'custom_vs_custom_2'),  # as baseline\n",
    "           ('custom_vs_custom_1', 'custom_vs_custom_1'),  # as baseline\n",
    "        ),\n",
    "    ),\n",
    "]:\n",
    "    for xlabel, xarray, yarray in [\n",
    "#         ('Utilities skew', np.arange(-1, 1.1, 0.4), np.arange(1, 7)),\n",
    "        ('Fairness coeff', np.arange(0.0, 0.7, 0.1), np.arange(7, 14)),\n",
    "#         ('Prosociality level', np.arange(0, 1.1, 0.2), np.arange(14, 20)),\n",
    "#         ('Hidden layer size', [5, 10, 20, 40, 80, 160], np.arange(20, 26))\n",
    "    ]:\n",
    "        for agent_0_match_regime, agent_1_match_regime in eval_regime_list:\n",
    "            for i, array_pos in enumerate(yarray):\n",
    "#                 if not (agent_0_match_regime, agent_1_match_regime) == ('custom_vs_custom_1', 'custom_vs_custom_2') \\\n",
    "#                    and i == 0:\n",
    "#                     continue\n",
    "#                 if (agent_0_match_regime, agent_1_match_regime) == ('custom_vs_custom_1', 'custom_vs_custom_2'):\n",
    "#                     cross_play = False\n",
    "#                 else:\n",
    "#                     cross_play = True  # in the strong sense, meaning that value functions are different\n",
    "                cross_play = None\n",
    "    \n",
    "                vals = np.array([res['player0_share_of_max'] for res in res_dict[((agent_0_match_regime,\n",
    "                                                                        agent_1_match_regime), array_pos)]])\n",
    "                x = vals.mean()\n",
    "                x_std = vals.std()\n",
    "                vals = np.array([res['player1_share_of_max'] for res in res_dict[((agent_0_match_regime,\n",
    "                                                                        agent_1_match_regime), array_pos)]])\n",
    "                y = vals.mean()\n",
    "                y_std = vals.std()\n",
    "#                 suptitle = f'Value vs {xlabel}, {\"Binding comms\" if binding else \"cheap comms\"}, {eval_regime_name}'\n",
    "#                 print(suptitle, agent_0_match_regime, agent_1_match_regime, reward_name)\n",
    "                all_vals.append((x, y, x_std, y_std, xarray[i], binding, cross_play))\n",
    "#                 print(x, xarray[i])\n",
    "os.system(f'tar -czvf {img_dir}.tar {img_dir}')\n",
    "\n",
    "x, y, x_std, y_std, param_val, binding_param, cross_play = zip(*all_vals)"
   ]
  },
  {
   "cell_type": "code",
   "execution_count": 19,
   "metadata": {},
   "outputs": [
    {
     "data": {
      "text/plain": [
       "21"
      ]
     },
     "execution_count": 19,
     "metadata": {},
     "output_type": "execute_result"
    }
   ],
   "source": [
    "len(x)"
   ]
  },
  {
   "cell_type": "code",
   "execution_count": 20,
   "metadata": {},
   "outputs": [
    {
     "data": {
      "image/png": "[encoded data removed]",
      "text/plain": [
       "<Figure size 792x432 with 1 Axes>"
      ]
     },
     "metadata": {},
     "output_type": "display_data"
    }
   ],
   "source": [
    "('default_vs_default', 'custom_vs_custom_1'),  # display 1:7\n",
    "('custom_vs_custom_1', 'custom_vs_custom_2'),  # display 7:14\n",
    "\n",
    "# plt.switch_backend(\"agg\")\n",
    "plt.style.use(\"seaborn-whitegrid\")\n",
    "COLORS = [None,] + list(mcolors.TABLEAU_COLORS)[:6] + ['black',] + list(mcolors.TABLEAU_COLORS)[:6]\n",
    "RANDOM_MARKERS = [None, \"1\", \"2\", \"3\", \"4\", \"8\", \"s\", \"p\", \"P\", \"*\", \"h\", \"H\", \"+\"]\n",
    "marker_list = [None,] + ['*',]*6 + ['s',]*7\n",
    "\n",
    "plt.figure(figsize=(11, 6))\n",
    "# plt.figure(figsize=(8, 5))\n",
    "# for i in range(len(x)):\n",
    "for i in range(1, 14):\n",
    "    if i >= 7:\n",
    "        label = f'IA = {param_val[i]:.1f} vs. IA = {param_val[i]:.1f}'\n",
    "    else:\n",
    "        label = f'IA = 0.0 vs. IA = {param_val[i]:.1f}'\n",
    "    color_list = ['#0072B2', '#009E73', '#D55E00', '#CC79A7', '#F0E442', '#56B4E9',   '#000000', '#0072B2', '#009E73', '#D55E00', '#CC79A7', '#F0E442', '#56B4E9',]\n",
    "#     marker_list = ['<', '>', 'X', '*', 'P', 's',   'd', '<', '>', 'X', '*', 'P', 's']\n",
    "    s = 80 if cross_play[i] else 300\n",
    "    plt.plot(\n",
    "        x[i],\n",
    "        y[i],\n",
    "#         markerfacecolor=\"none\",\n",
    "        markeredgecolor=COLORS[i],\n",
    "        linestyle=\"None\",\n",
    "        marker=marker_list[i],\n",
    "        color=COLORS[i],\n",
    "        label=label,\n",
    "        markersize=9 if marker_list[i] == 's' else 13\n",
    "    )\n",
    "    \n",
    "plt.xlabel('Player 0 value', fontsize=17)\n",
    "plt.ylabel('Player 1 value', fontsize=17)\n",
    "plt.xlim((0.23, 0.75))\n",
    "plt.ylim((0.23, 0.75))\n",
    "plt.suptitle(f'Average values of agents', fontsize=17)\n",
    "handles, labels = plt.gca().get_legend_handles_labels()\n",
    "by_label = dict(zip(labels, handles))\n",
    "plt.legend(by_label.values(), by_label.keys(), numpoints=1,\n",
    "    frameon=True,\n",
    "    fontsize=11,)\n",
    "#     fontsize=\"small\",)\n",
    "plt.show()"
   ]
  },
  {
   "cell_type": "markdown",
   "metadata": {},
   "source": [
    "## Compute mean and std for barplots individually over different runs"
   ]
  },
  {
   "cell_type": "code",
   "execution_count": 21,
   "metadata": {},
   "outputs": [],
   "source": [
    "# ('default_vs_default', 'custom_vs_custom_1'),   # 2.2\n",
    "# ('custom_vs_custom_1', 'custom_vs_custom_2'),  # as baseline\n",
    "# ('custom_vs_custom_1', 'custom_vs_custom_1'),  # as baseline"
   ]
  },
  {
   "cell_type": "code",
   "execution_count": 22,
   "metadata": {},
   "outputs": [
    {
     "name": "stdout",
     "output_type": "stream",
     "text": [
      "(0.651958, 0.57897437, 0.5209278, 0.4904595, 0.44816065, 0.3652433) (0.2946116, 0.30257654, 0.31327945, 0.29468426, 0.29970247, 0.25992543)\n"
     ]
    }
   ],
   "source": [
    "print(x[1:7], y[1:7])  # default vs custom, starts from 1"
   ]
  },
  {
   "cell_type": "code",
   "execution_count": 23,
   "metadata": {},
   "outputs": [
    {
     "name": "stdout",
     "output_type": "stream",
     "text": [
      "(0.7376215, 0.6129167, 0.54170287, 0.4994951, 0.46781248, 0.4270572, 0.42730743) (0.30001095, 0.39960298, 0.41811663, 0.42247146, 0.40760374, 0.40898776, 0.3982173)\n"
     ]
    }
   ],
   "source": [
    "print(x[7:14], y[7:14])  # custom vs custom, starts from 0"
   ]
  },
  {
   "cell_type": "code",
   "execution_count": 24,
   "metadata": {},
   "outputs": [],
   "source": [
    "run_vals = []\n",
    "for run_i in range(5):\n",
    "    all_vals = []\n",
    "    for eval_regime_name, eval_regime_list in [\n",
    "        ('placeholder_name',\n",
    "            (\n",
    "    #            ('custom_vs_custom_1', 'default_vs_default'),  # 2.1\n",
    "               ('default_vs_default', 'custom_vs_custom_1'),   # 2.2\n",
    "\n",
    "               ('custom_vs_custom_1', 'custom_vs_custom_2'),  # as baseline\n",
    "               ('custom_vs_custom_1', 'custom_vs_custom_1'),  # as baseline\n",
    "            ),\n",
    "        ),\n",
    "    ]:\n",
    "        for xlabel, xarray, yarray in [\n",
    "            ('Fairness coeff', np.arange(0.0, 0.7, 0.1), np.arange(7, 14)),\n",
    "        ]:\n",
    "            for agent_0_match_regime, agent_1_match_regime in eval_regime_list:\n",
    "                for i, array_pos in enumerate(yarray):\n",
    "#                     cross_play = None\n",
    "\n",
    "#                     vals = np.array(res_dict[((agent_0_match_regime, agent_1_match_regime), array_pos)][run_i]['player0_share_of_max'])\n",
    "#                     x = vals.mean()\n",
    "#                     x_std = vals.std()\n",
    "#                     vals = np.array(res_dict[((agent_0_match_regime, agent_1_match_regime), array_pos)][run_i]['player1_share_of_max'])\n",
    "#                     y = vals.mean()\n",
    "#                     y_std = vals.std()\n",
    "#                     all_vals.append((x, y, x_std, y_std, xarray[i], binding, cross_play))\n",
    "                    \n",
    "                    all_vals.append((np.array(res_dict[((agent_0_match_regime, agent_1_match_regime), array_pos)][run_i]['player0_share_of_max']),\n",
    "                                     np.array(res_dict[((agent_0_match_regime, agent_1_match_regime), array_pos)][run_i]['player1_share_of_max'])))\n",
    "\n",
    "    run_vals.append(all_vals)"
   ]
  },
  {
   "cell_type": "code",
   "execution_count": 26,
   "metadata": {},
   "outputs": [],
   "source": [
    "run_vals = np.array(run_vals)"
   ]
  },
  {
   "cell_type": "code",
   "execution_count": 27,
   "metadata": {},
   "outputs": [
    {
     "data": {
      "text/plain": [
       "(5, 21, 2, 16384)"
      ]
     },
     "execution_count": 27,
     "metadata": {},
     "output_type": "execute_result"
    }
   ],
   "source": [
    "run_vals.shape"
   ]
  },
  {
   "cell_type": "code",
   "execution_count": null,
   "metadata": {},
   "outputs": [],
   "source": []
  },
  {
   "cell_type": "markdown",
   "metadata": {},
   "source": [
    "### Compute distances to Pareto frontier"
   ]
  },
  {
   "cell_type": "code",
   "execution_count": 28,
   "metadata": {},
   "outputs": [
    {
     "name": "stdout",
     "output_type": "stream",
     "text": [
      "0.5413546540078692 0.000421622773273149\n"
     ]
    }
   ],
   "source": [
    "all_vals = []\n",
    "for ia_i in range(7):\n",
    "    cur_max_payoffs = ia_max_payoffs[ia_i]\n",
    "    cur_max_payoffs = cur_max_payoffs.reshape((1, 1, 2, 1))\n",
    "    cur_dists = np.linalg.norm(run_vals[:, 1:7, :, :] - cur_max_payoffs, axis=2)\n",
    "    all_vals.append(cur_dists)\n",
    "all_vals = np.stack(all_vals, axis=3).min(axis=3)\n",
    "print(all_vals.mean(), all_vals.std() / np.sqrt(all_vals.size))"
   ]
  },
  {
   "cell_type": "code",
   "execution_count": 29,
   "metadata": {},
   "outputs": [
    {
     "name": "stdout",
     "output_type": "stream",
     "text": [
      "0.41491568672316304 0.00041458697640817615\n"
     ]
    }
   ],
   "source": [
    "all_vals = []\n",
    "for ia_i in range(7):\n",
    "    cur_max_payoffs = ia_max_payoffs[ia_i]\n",
    "    cur_max_payoffs = cur_max_payoffs.reshape((1, 1, 2, 1))\n",
    "    cur_dists = np.linalg.norm(run_vals[:, 8:14, :, :] - cur_max_payoffs, axis=2)\n",
    "    all_vals.append(cur_dists)\n",
    "all_vals = np.stack(all_vals, axis=3).min(axis=3)\n",
    "print(all_vals.mean(), all_vals.std() / np.sqrt(all_vals.size))"
   ]
  },
  {
   "cell_type": "code",
   "execution_count": 30,
   "metadata": {},
   "outputs": [
    {
     "name": "stdout",
     "output_type": "stream",
     "text": [
      "0.47813517036551617 0.00030245278579676293\n"
     ]
    }
   ],
   "source": [
    "all_vals = []\n",
    "for ia_i in range(7):\n",
    "    cur_max_payoffs = ia_max_payoffs[ia_i]\n",
    "    cur_max_payoffs = cur_max_payoffs.reshape((1, 1, 2, 1))\n",
    "    cur_dists = np.linalg.norm(np.concatenate([run_vals[:, 1:7, :, :], run_vals[:, 8:14, :, :]], axis=1) - cur_max_payoffs, axis=2)\n",
    "    all_vals.append(cur_dists)\n",
    "all_vals = np.stack(all_vals, axis=3).min(axis=3)\n",
    "print(all_vals.mean(), all_vals.std() / np.sqrt(all_vals.size))"
   ]
  },
  {
   "cell_type": "code",
   "execution_count": 31,
   "metadata": {},
   "outputs": [
    {
     "name": "stdout",
     "output_type": "stream",
     "text": [
      "0.4123239246353045 0.0004092889188903068\n"
     ]
    }
   ],
   "source": [
    "all_vals = []\n",
    "for ia_i in range(7):\n",
    "    cur_max_payoffs = ia_max_payoffs[ia_i]\n",
    "    cur_max_payoffs = cur_max_payoffs.reshape((1, 1, 2, 1))\n",
    "    cur_dists = np.linalg.norm(run_vals[:, 15:21, :, :] - cur_max_payoffs, axis=2)\n",
    "    all_vals.append(cur_dists)\n",
    "all_vals = np.stack(all_vals, axis=3).min(axis=3)\n",
    "print(all_vals.mean(), all_vals.std() / np.sqrt(all_vals.size))"
   ]
  },
  {
   "cell_type": "markdown",
   "metadata": {},
   "source": [
    "### Compute barplot values"
   ]
  },
  {
   "cell_type": "markdown",
   "metadata": {},
   "source": [
    "different welfare"
   ]
  },
  {
   "cell_type": "code",
   "execution_count": 34,
   "metadata": {},
   "outputs": [
    {
     "name": "stdout",
     "output_type": "stream",
     "text": [
      "0.61750597 0.0006541818492971735\n"
     ]
    }
   ],
   "source": [
    "all_arr = []\n",
    "for ia_i, ia_val in enumerate(np.array(list(range(0, 7))) / 10):\n",
    "    cur_array = (run_vals[:, 1:7, :, :].sum(axis=2) - ia_val * np.abs(run_vals[:, 1:7, 0, :] - run_vals[:, 1:7, 1, :])) / ia_val_w_maximums[ia_i]\n",
    "    all_arr.append(cur_array)\n",
    "#     print(cur_array.shape)\n",
    "maxed = np.array(all_arr).max(axis=0)\n",
    "print(maxed.mean(), maxed.std() / np.sqrt(maxed.size))"
   ]
  },
  {
   "cell_type": "markdown",
   "metadata": {},
   "source": [
    "same welfare"
   ]
  },
  {
   "cell_type": "code",
   "execution_count": 35,
   "metadata": {},
   "outputs": [
    {
     "name": "stdout",
     "output_type": "stream",
     "text": [
      "0.7032698 0.0005697757364445937\n"
     ]
    }
   ],
   "source": [
    "all_arr = []\n",
    "for ia_i, ia_val in enumerate(np.array(list(range(0, 7))) / 10):\n",
    "    cur_array = (run_vals[:, 8:14, :, :].sum(axis=2) - ia_val * np.abs(run_vals[:, 8:14, 0, :] - run_vals[:, 8:14, 1, :])) / ia_val_w_maximums[ia_i]\n",
    "    all_arr.append(cur_array)\n",
    "#     print(cur_array.shape)\n",
    "maxed = np.array(all_arr).max(axis=0)\n",
    "print(maxed.mean(), maxed.std() / np.sqrt(maxed.size))"
   ]
  },
  {
   "cell_type": "code",
   "execution_count": 36,
   "metadata": {},
   "outputs": [
    {
     "name": "stdout",
     "output_type": "stream",
     "text": [
      "0.7092597 0.0005610570831738187\n"
     ]
    }
   ],
   "source": [
    "all_arr = []\n",
    "for ia_i, ia_val in enumerate(np.array(list(range(0, 7))) / 10):\n",
    "    cur_array = (run_vals[:, 15:21, :, :].sum(axis=2) - ia_val * np.abs(run_vals[:, 15:21, 0, :] - run_vals[:, 15:21, 1, :])) / ia_val_w_maximums[ia_i]\n",
    "    all_arr.append(cur_array)\n",
    "#     print(cur_array.shape)\n",
    "maxed = np.array(all_arr).max(axis=0)\n",
    "print(maxed.mean(), maxed.std() / np.sqrt(maxed.size))"
   ]
  },
  {
   "cell_type": "code",
   "execution_count": 37,
   "metadata": {},
   "outputs": [
    {
     "name": "stdout",
     "output_type": "stream",
     "text": [
      "0.66038793 0.00043591299027194013\n"
     ]
    }
   ],
   "source": [
    "all_arr = []\n",
    "for ia_i, ia_val in enumerate(np.array(list(range(0, 7))) / 10):\n",
    "    a = np.concatenate([run_vals[:, 1:7, :, :], run_vals[:, 8:14, :, :]])\n",
    "    cur_array = (a.sum(axis=2) - ia_val * np.abs(a[:, :, 0, :] - a[:, :, 1, :])) / ia_val_w_maximums[ia_i]\n",
    "    all_arr.append(cur_array)\n",
    "#     print(cur_array.shape)\n",
    "maxed = np.array(all_arr).max(axis=0)\n",
    "print(maxed.mean(), maxed.std() / np.sqrt(maxed.size))"
   ]
  },
  {
   "cell_type": "code",
   "execution_count": null,
   "metadata": {},
   "outputs": [],
   "source": []
  }
 ],
 "metadata": {
  "kernelspec": {
   "display_name": "Python 3",
   "language": "python",
   "name": "python3"
  },
  "language_info": {
   "codemirror_mode": {
    "name": "ipython",
    "version": 3
   },
   "file_extension": ".py",
   "mimetype": "text/x-python",
   "name": "python",
   "nbconvert_exporter": "python",
   "pygments_lexer": "ipython3",
   "version": "3.8.5"
  }
 },
 "nbformat": 4,
 "nbformat_minor": 5
}
