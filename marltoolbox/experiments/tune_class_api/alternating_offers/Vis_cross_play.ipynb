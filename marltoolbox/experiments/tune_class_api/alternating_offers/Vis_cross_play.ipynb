{
 "cells": [
  {
   "cell_type": "code",
   "execution_count": 2,
   "metadata": {},
   "outputs": [],
   "source": [
    "import os\n",
    "import pickle\n",
    "from tqdm import tqdm, trange\n",
    "import os\n",
    "import numpy as np\n",
    "from collections import defaultdict\n",
    "\n",
    "import seaborn as sns\n",
    "import matplotlib.pyplot as plt\n",
    "import matplotlib.colors as mcolors\n",
    "%matplotlib inline\n",
    "sns.set_style(\"darkgrid\")\n",
    "import matplotlib.cm as cm"
   ]
  },
  {
   "cell_type": "code",
   "execution_count": 4,
   "metadata": {},
   "outputs": [],
   "source": [
    "binding = True\n",
    "root_path = '/home/alexander/ray_results/cross_play_20K_episodes_binding/2021_03_23/12_37_37'\n",
    "\n",
    "# binding = False\n",
    "# root_path = 'home/alexander/ray_results/cross_play_20K_episodes_cheap/2021_03_24/05_30_06'\n",
    "\n",
    "# root_path = '/home/alexander/ray_results/population_experiments/2021_04_20/14_01_26'\n",
    "# binding = True\n",
    "\n",
    "# binding = True\n",
    "# root_path = '/home/alexander/ray_results/cross_play_20K_episodes_binding_prosocial/2021_05_20/01_53_31'\n",
    "\n",
    "binding = True\n",
    "root_path = '/home/alexander/ray_results/cross_play_20K_episodes_binding_prosocial/2021_05_31/23_44_35'  # not actually prosocial\n",
    "\n",
    "# results_filename = os.path.join('cross_play_evals', 'results_' + '_'.join(root_path.split('/')[-3:]) + '.pickle')  # new experimental file\n",
    "# results_filename = os.path.join('cross_play_evals', 'results_' + '_'.join(root_path.split('/')[-3:]) + '_b.pickle')  # the default file\n",
    "results_filename = os.path.join('cross_play_evals', 'results_' + '_'.join(root_path.split('/')[-3:]) + '.pickle')\n",
    "results = pickle.load(open(results_filename, 'rb'))\n",
    "\n",
    "res_dict = defaultdict(list)\n",
    "\n",
    "for res in results:\n",
    "    res_dict[(res[0], res[1])].append(res[3])"
   ]
  },
  {
   "cell_type": "code",
   "execution_count": 89,
   "metadata": {},
   "outputs": [
    {
     "data": {
      "text/plain": [
       "8870"
      ]
     },
     "execution_count": 89,
     "metadata": {},
     "output_type": "execute_result"
    }
   ],
   "source": [
    "len(results)"
   ]
  },
  {
   "cell_type": "code",
   "execution_count": 91,
   "metadata": {},
   "outputs": [],
   "source": [
    "# res2 = [res for res in results if res[0] == ('custom_vs_custom_1', 'custom_vs_custom_2') and res[1] == 0]"
   ]
  },
  {
   "cell_type": "code",
   "execution_count": 89,
   "metadata": {},
   "outputs": [],
   "source": [
    "# res2[0][3]['player0_share_of_max'].shape"
   ]
  },
  {
   "cell_type": "code",
   "execution_count": 90,
   "metadata": {},
   "outputs": [],
   "source": [
    "# pickle.dump(open('prev_results_'))"
   ]
  },
  {
   "cell_type": "code",
   "execution_count": 40,
   "metadata": {},
   "outputs": [],
   "source": [
    "img_dir = results_filename[:-7]\n",
    "os.makedirs(img_dir, exist_ok=True)"
   ]
  },
  {
   "cell_type": "markdown",
   "metadata": {},
   "source": [
    "# Plot welfare in cross-play"
   ]
  },
  {
   "cell_type": "code",
   "execution_count": null,
   "metadata": {},
   "outputs": [],
   "source": [
    "for eval_regime_name, eval_regime_list in [\n",
    "    ('agents of the same type', \n",
    "        (\n",
    "            ('custom_vs_custom_1', 'custom_vs_custom_1'),  # normal eval\n",
    "            ('custom_vs_custom_1', 'custom_vs_custom_2'),  # simplest (1)\n",
    "        )\n",
    "    ),\n",
    "    ('both have incorrect notions',\n",
    "        (\n",
    "           ('custom_vs_custom_1', 'default_vs_default'),  # 2.1\n",
    "           ('default_vs_default', 'custom_vs_custom_1'),   # 2.2\n",
    "            \n",
    "           ('custom_vs_custom_1', 'custom_vs_custom_2'),  # as baseline\n",
    "           ('default_vs_default', 'default_vs_default'),\n",
    "        ),\n",
    "    ),\n",
    "    ('second has incorrect notions',\n",
    "        (\n",
    "           ('default_vs_custom', 'custom_vs_custom_1'),   # 3.1\n",
    "           ('custom_vs_custom_1', 'default_vs_custom'),  # 4.1\n",
    "           ('default_vs_default', 'custom_vs_default'),\n",
    "           ('custom_vs_default', 'default_vs_default'),\n",
    "            \n",
    "           ('custom_vs_custom_1', 'custom_vs_custom_2'),  # as baseline\n",
    "        ),\n",
    "    ),\n",
    "    ('first has incorrect notions',\n",
    "        (\n",
    "           ('default_vs_default', 'default_vs_custom'),   # 3.2\n",
    "           ('default_vs_custom', 'default_vs_default'),  # 4.2\n",
    "           ('custom_vs_default', 'custom_vs_custom_1'),\n",
    "           ('custom_vs_custom_1', 'custom_vs_default'),\n",
    "            \n",
    "           ('custom_vs_custom_1', 'custom_vs_custom_2'),  # as baseline\n",
    "        ),\n",
    "    ),\n",
    "]:\n",
    "    for xlabel, xarray, yarray in [\n",
    "        ('Utilities skew', np.arange(-1, 1.1, 0.4), np.arange(1, 7)),\n",
    "        ('Fairness coeff', np.arange(0.0, 0.7, 0.1), np.arange(7, 14)),\n",
    "        ('Prosociality level', np.arange(0, 1.1, 0.2), np.arange(14, 20)),\n",
    "        ('Hidden layer size', [5, 10, 20, 40, 80, 160], np.arange(20, 26))\n",
    "    ]:\n",
    "        plt.figure(figsize=(10, 7))\n",
    "        for agent_0_match_regime, agent_1_match_regime in eval_regime_list:\n",
    "            welfare_vals = []\n",
    "            welfare_stds = []\n",
    "#             welfare_positive_vals = []\n",
    "#             welfare_positive_stds = []\n",
    "            for y in yarray:\n",
    "                vals = np.array([res['sum_share_of_max'] for res in res_dict[((agent_0_match_regime, agent_1_match_regime), y)]])\n",
    "                welfare_vals.append(vals.mean())\n",
    "                welfare_stds.append(vals.mean(axis=1).std())\n",
    "#                 welfare_positive = (vals > 0)\n",
    "#                 welfare_positive_vals.append(welfare_positive.mean())\n",
    "#                 welfare_positive_stds.append(welfare_positive.mean(axis=1).std())\n",
    "            plt.scatter(xarray, welfare_vals,\n",
    "                        label=f'{agent_0_match_regime}, {agent_1_match_regime}')\n",
    "            plt.errorbar(xarray, welfare_vals, yerr=welfare_stds)\n",
    "#             plt.scatter(xarray, welfare_positive_vals,\n",
    "#                         label=f'{agent_0_match_regime}, {agent_1_match_regime}')\n",
    "#             plt.errorbar(xarray, welfare_positive_vals, yerr=welfare_positive_stds)\n",
    "            plt.ylim(0.3, 1)\n",
    "            plt.ylabel('Welfare, share of maximum possible welfare')\n",
    "#             plt.ylabel('% of positive-welfare games')\n",
    "            plt.xlabel(xlabel)\n",
    "            suptitle = f'Welfare vs {xlabel}, {\"Binding comms\" if binding else \"cheap comms\"}, {eval_regime_name}'\n",
    "            plt.suptitle(suptitle)\n",
    "            plt.legend()\n",
    "            plt.savefig(os.path.join(img_dir, suptitle + '.png'), bbox_inches='tight')\n",
    "os.system(f'tar -czvf {img_dir}.tar {img_dir}')"
   ]
  },
  {
   "cell_type": "code",
   "execution_count": null,
   "metadata": {},
   "outputs": [],
   "source": []
  },
  {
   "cell_type": "markdown",
   "metadata": {},
   "source": [
    "# this is just for computing the multiplier for normalization on Maxime barplot"
   ]
  },
  {
   "cell_type": "code",
   "execution_count": 108,
   "metadata": {},
   "outputs": [],
   "source": [
    "from itertools import product"
   ]
  },
  {
   "cell_type": "code",
   "execution_count": 109,
   "metadata": {},
   "outputs": [],
   "source": [
    "from marltoolbox.algos.alternating_offers.envs.alt_offers_env_sampling import generate_batch"
   ]
  },
  {
   "cell_type": "code",
   "execution_count": 85,
   "metadata": {},
   "outputs": [],
   "source": [
    "max_sums = []\n",
    "for i in range(50):\n",
    "    batch = generate_batch(128, ('uniform', 'uniform'))\n",
    "    for i in range(batch['pool'].numpy().shape[0]):\n",
    "        p = batch['pool'][i].numpy()\n",
    "        u0 = batch['utilities'][0][i].numpy()\n",
    "        u1 = batch['utilities'][1][i].numpy()\n",
    "\n",
    "        theor0 = (p*u0).sum()\n",
    "        theor1 = (p*u1).sum()\n",
    "\n",
    "        max_sum = 0\n",
    "        for dist in product(range(p[0]+1), range(p[1]+1), range(p[2]+1)):\n",
    "            cur_sum = 0\n",
    "            if theor0 != 0:\n",
    "                cur_sum += (u0 * dist / theor0).sum()\n",
    "            if theor1 != 0:\n",
    "                cur_sum += (u1 * (p-dist) / theor1).sum()\n",
    "            max_sum = max(cur_sum, max_sum)\n",
    "        max_sums.append(max_sum)"
   ]
  },
  {
   "cell_type": "code",
   "execution_count": 86,
   "metadata": {},
   "outputs": [
    {
     "data": {
      "text/plain": [
       "0.6600224200927554"
      ]
     },
     "execution_count": 86,
     "metadata": {},
     "output_type": "execute_result"
    }
   ],
   "source": [
    "np.array(max_sums).mean() / 2"
   ]
  },
  {
   "cell_type": "code",
   "execution_count": 74,
   "metadata": {},
   "outputs": [],
   "source": [
    "max_sum = 0\n",
    "for dist in product(range(p[0]+1), range(p[1]+1), range(p[2]+1)):\n",
    "    cur_sum = (u0 * dist / theor0).sum() + (u1 * (p-dist) / theor1).sum()\n",
    "    max_sum = max(cur_sum, max_sum)"
   ]
  },
  {
   "cell_type": "code",
   "execution_count": 75,
   "metadata": {},
   "outputs": [
    {
     "data": {
      "text/plain": [
       "1.4642857142857144"
      ]
     },
     "execution_count": 75,
     "metadata": {},
     "output_type": "execute_result"
    }
   ],
   "source": [
    "max_sum"
   ]
  },
  {
   "cell_type": "code",
   "execution_count": null,
   "metadata": {},
   "outputs": [],
   "source": []
  },
  {
   "cell_type": "code",
   "execution_count": 44,
   "metadata": {},
   "outputs": [],
   "source": [
    "ia_max_payoffs = []\n",
    "for ia_i, ia in enumerate(np.array(list(range(0, 7))) / 10):\n",
    "    cur_ia_max_payoffs = []\n",
    "    for batch_i in range(2):\n",
    "        batch = generate_batch(128, ('uniform', 'uniform'))\n",
    "        for i in range(batch['pool'].numpy().shape[0]):\n",
    "            p = batch['pool'][i].numpy()\n",
    "            u0 = batch['utilities'][0][i].numpy()\n",
    "            u1 = batch['utilities'][1][i].numpy()\n",
    "\n",
    "            theor0 = (p*u0).sum()\n",
    "            theor1 = (p*u1).sum()\n",
    "\n",
    "            max_payoffs = None\n",
    "            max_w = None\n",
    "            for dist in product(range(p[0]+1), range(p[1]+1), range(p[2]+1)):\n",
    "                p0 = 0\n",
    "                p1 = 0\n",
    "                if theor0 != 0:\n",
    "                    p0 = (u0 * dist / theor0).sum()\n",
    "                if theor1 != 0:\n",
    "                    p1 = (u1 * (p-dist) / theor1).sum()\n",
    "                w = p0 + p1 - abs(p0-p1) * ia\n",
    "                if max_payoffs is None or (w>max_w):\n",
    "                    max_w = w\n",
    "                    max_payoffs = (p0, p1)\n",
    "            cur_ia_max_payoffs.append(max_payoffs)\n",
    "    cur_ia_max_payoffs = np.array(cur_ia_max_payoffs).mean(axis=0)\n",
    "    ia_max_payoffs.append(cur_ia_max_payoffs)"
   ]
  },
  {
   "cell_type": "code",
   "execution_count": 45,
   "metadata": {},
   "outputs": [
    {
     "data": {
      "text/plain": [
       "[array([0.61280657, 0.69603168]),\n",
       " array([0.64512356, 0.68655664]),\n",
       " array([0.63628684, 0.6816643 ]),\n",
       " array([0.632787  , 0.67854254]),\n",
       " array([0.62390487, 0.67512828]),\n",
       " array([0.65146122, 0.64038926]),\n",
       " array([0.6425503 , 0.65451186])]"
      ]
     },
     "execution_count": 45,
     "metadata": {},
     "output_type": "execute_result"
    }
   ],
   "source": [
    "ia_max_payoffs"
   ]
  },
  {
   "cell_type": "code",
   "execution_count": null,
   "metadata": {},
   "outputs": [],
   "source": []
  },
  {
   "cell_type": "code",
   "execution_count": 130,
   "metadata": {},
   "outputs": [],
   "source": [
    "ia_val_w_maximums = []\n",
    "for ia_val in (np.array(list(range(0, 7))) / 10):\n",
    "    max_sums = []\n",
    "    for i in range(10):\n",
    "        batch = generate_batch(128, ('uniform', 'uniform'))\n",
    "        for i in range(batch['pool'].numpy().shape[0]):\n",
    "            p = batch['pool'][i].numpy()\n",
    "            u0 = batch['utilities'][0][i].numpy()\n",
    "            u1 = batch['utilities'][1][i].numpy()\n",
    "\n",
    "            theor0 = (p*u0).sum()\n",
    "            theor1 = (p*u1).sum()\n",
    "#             print(theor0)\n",
    "#             print(theor1)\n",
    "            max_sum = 0\n",
    "            for dist in product(range(p[0]+1), range(p[1]+1), range(p[2]+1)):\n",
    "                cur_sum = 0\n",
    "                cur_0 = 0\n",
    "                cur_1 = 0\n",
    "                if theor0 != 0:\n",
    "                    cur_0 = (u0 * dist / theor0).sum()  # 0 value\n",
    "                if theor1 != 0:\n",
    "                    cur_1 = (u1 * (p-dist) / theor1).sum()  # 1 value\n",
    "                cur_sum = cur_0 + cur_1 - ia_val * np.abs(cur_0 - cur_1)\n",
    "                max_sum = max(cur_sum, max_sum)\n",
    "#                 print(cur_sum)\n",
    "            max_sums.append(max_sum)\n",
    "    ia_val_w_maximums.append(np.array(max_sums).mean())"
   ]
  },
  {
   "cell_type": "code",
   "execution_count": null,
   "metadata": {},
   "outputs": [],
   "source": []
  },
  {
   "cell_type": "code",
   "execution_count": null,
   "metadata": {},
   "outputs": [],
   "source": []
  },
  {
   "cell_type": "markdown",
   "metadata": {},
   "source": [
    "# Same but only for particular runs and with num_turns as well"
   ]
  },
  {
   "cell_type": "code",
   "execution_count": 19,
   "metadata": {},
   "outputs": [],
   "source": [
    "# res_dict[(('default_vs_default', 'custom_vs_custom_1'), 8)]"
   ]
  },
  {
   "cell_type": "code",
   "execution_count": null,
   "metadata": {},
   "outputs": [],
   "source": [
    "# agent_0_match_regime, agent_1_match_regime = ('default_vs_default', 'custom_vs_custom_1')\n",
    "# agent_0_match_regime, agent_1_match_regime = ('custom_vs_custom_1', 'default_vs_default')\n",
    "agent_0_match_regime, agent_1_match_regime = ('custom_vs_custom_1', 'custom_vs_custom_2')\n",
    "for array_i in range(7, 14):\n",
    "    r0 = np.array([res['player0_share_of_max'] for res in res_dict[((agent_0_match_regime, agent_1_match_regime), array_i)]]).flatten()\n",
    "    r1 = np.array([res['player1_share_of_max'] for res in res_dict[((agent_0_match_regime, agent_1_match_regime), array_i)]]).flatten()\n",
    "    w = np.array([res['sum_share_of_max'] for res in res_dict[((agent_0_match_regime, agent_1_match_regime), array_i)]]).flatten()\n",
    "    num_turns = np.array([res['num_turns'] for res in res_dict[((agent_0_match_regime, agent_1_match_regime), array_i)]]).flatten()\n",
    "#     sns.displot(w, binwidth=0.3)\n",
    "\n",
    "#     plt.figure(figsize=(10, 7,))\n",
    "    sns.displot(w, height=9)\n",
    "    suptitle = f\"welfare distribution, ('{agent_0_match_regime}', '{agent_1_match_regime}'), IA coeff {np.arange(0.0, 0.7, 0.1)[array_i-7]:.1f}\"\n",
    "    plt.suptitle(suptitle)\n",
    "    plt.savefig(os.path.join('debug', suptitle + '.png'), bbox_inches='tight')\n",
    "    \n",
    "#     plt.figure(figsize=(10, 7,))\n",
    "    sns.displot(num_turns, binwidth=0.3, height=9)\n",
    "    suptitle = f\"num_turns distribution, ('{agent_0_match_regime}', '{agent_1_match_regime}'), IA coeff {np.arange(0.0, 0.7, 0.1)[array_i-7]:.1f}\"\n",
    "    plt.suptitle(suptitle)\n",
    "#     plt.savefig(os.path.join('debug', suptitle + '.png'), bbox_inches='tight')\n",
    "    \n",
    "# os.system(f'tar -czvf debug.tar debug')"
   ]
  },
  {
   "cell_type": "markdown",
   "metadata": {},
   "source": [
    "# Now plot agent payoffs instead of welfare for cross-play"
   ]
  },
  {
   "cell_type": "code",
   "execution_count": null,
   "metadata": {},
   "outputs": [],
   "source": [
    "for eval_regime_name, eval_regime_list in [\n",
    "    ('both have incorrect notions',\n",
    "        (\n",
    "           ('custom_vs_custom_1', 'default_vs_default'),  # 2.1\n",
    "           ('default_vs_default', 'custom_vs_custom_1'),   # 2.2\n",
    "            \n",
    "           ('custom_vs_custom_1', 'custom_vs_custom_2'),  # as baseline\n",
    "        ),\n",
    "    ),\n",
    "    ('second has incorrect notions',\n",
    "        (\n",
    "           ('default_vs_custom', 'custom_vs_custom_1'),   # 3.1\n",
    "           ('custom_vs_custom_1', 'default_vs_custom'),  # 4.1\n",
    "           ('default_vs_default', 'custom_vs_default'),\n",
    "           ('custom_vs_default', 'default_vs_default'),\n",
    "            \n",
    "           ('custom_vs_custom_1', 'custom_vs_custom_2'),  # as baseline\n",
    "        ),\n",
    "    ),\n",
    "    ('first has incorrect notions',\n",
    "        (\n",
    "           ('default_vs_default', 'default_vs_custom'),   # 3.2\n",
    "           ('default_vs_custom', 'default_vs_default'),  # 4.2\n",
    "           ('custom_vs_default', 'custom_vs_custom_1'),\n",
    "           ('custom_vs_custom_1', 'custom_vs_default'),\n",
    "            \n",
    "           ('custom_vs_custom_1', 'custom_vs_custom_2'),  # as baseline\n",
    "        ),\n",
    "    ),\n",
    "]:\n",
    "    for xlabel, xarray, yarray in [\n",
    "        ('Utilities skew', np.arange(-1, 1.1, 0.4), np.arange(1, 7)),\n",
    "        ('Fairness coeff', np.arange(0.0, 0.7, 0.1), np.arange(7, 14)),\n",
    "        ('Prosociality level', np.arange(0, 1.1, 0.2), np.arange(14, 20)),\n",
    "        ('Hidden layer size', [5, 10, 20, 40, 80, 160], np.arange(20, 26))\n",
    "    ]:\n",
    "        plt.figure(figsize=(10, 7))\n",
    "        for agent_0_match_regime, agent_1_match_regime in eval_regime_list:\n",
    "            reward_names = []\n",
    "            if agent_0_match_regime.startswith('custom'):\n",
    "                reward_names.append('player0_share_of_max')\n",
    "            if agent_1_match_regime.endswith('custom') or agent_1_match_regime.endswith('custom_1') \\\n",
    "                or agent_1_match_regime.endswith('custom_2'):\n",
    "                reward_names.append('player1_share_of_max')\n",
    "            for reward_name in reward_names:\n",
    "                welfare_vals = []\n",
    "                welfare_stds = []\n",
    "                for y in yarray:\n",
    "                    vals = np.array([res[reward_name] for res in res_dict[((agent_0_match_regime,\n",
    "                                                                            agent_1_match_regime), y)]])\n",
    "                    welfare_vals.append(vals.mean())\n",
    "                    welfare_stds.append(vals.mean(axis=1).std())\n",
    "                plt.scatter(xarray, welfare_vals,\n",
    "                            label=f'{agent_0_match_regime}, {agent_1_match_regime}, {reward_name}')\n",
    "                plt.errorbar(xarray, welfare_vals, yerr=welfare_stds)\n",
    "                plt.ylabel('Agent value')\n",
    "                plt.xlabel(xlabel)\n",
    "                suptitle = f'Value vs {xlabel}, {\"Binding comms\" if binding else \"cheap comms\"}, {eval_regime_name}'\n",
    "                plt.suptitle(suptitle)\n",
    "                plt.legend()\n",
    "                plt.savefig(os.path.join(img_dir, suptitle + '.png'), bbox_inches='tight')\n",
    "os.system(f'tar -czvf {img_dir}.tar {img_dir}')"
   ]
  },
  {
   "cell_type": "code",
   "execution_count": null,
   "metadata": {},
   "outputs": [],
   "source": []
  },
  {
   "cell_type": "code",
   "execution_count": null,
   "metadata": {},
   "outputs": [],
   "source": []
  },
  {
   "cell_type": "code",
   "execution_count": null,
   "metadata": {},
   "outputs": [],
   "source": []
  },
  {
   "cell_type": "code",
   "execution_count": null,
   "metadata": {},
   "outputs": [],
   "source": []
  },
  {
   "cell_type": "markdown",
   "metadata": {},
   "source": [
    "# Player 0 vs player 1 payoff plots in cross-play and self-play"
   ]
  },
  {
   "cell_type": "code",
   "execution_count": 26,
   "metadata": {},
   "outputs": [],
   "source": [
    "# len(res_dict[(('custom_vs_custom_1', 'custom_vs_custom_1'), 1)])"
   ]
  },
  {
   "cell_type": "code",
   "execution_count": 27,
   "metadata": {},
   "outputs": [],
   "source": [
    "# list(res_dict.keys())"
   ]
  },
  {
   "cell_type": "code",
   "execution_count": 5,
   "metadata": {},
   "outputs": [],
   "source": [
    "all_vals = []\n",
    "for eval_regime_name, eval_regime_list in [\n",
    "    ('placeholder_name',\n",
    "        (\n",
    "#            ('custom_vs_custom_1', 'default_vs_default'),  # 2.1\n",
    "           ('default_vs_default', 'custom_vs_custom_1'),   # 2.2\n",
    "            \n",
    "           ('custom_vs_custom_1', 'custom_vs_custom_2'),  # as baseline\n",
    "           ('custom_vs_custom_1', 'custom_vs_custom_1'),  # as baseline\n",
    "        ),\n",
    "    ),\n",
    "#     ('second has incorrect notions',\n",
    "#         (\n",
    "#            ('default_vs_custom', 'custom_vs_custom_1'),   # 3.1\n",
    "#            ('custom_vs_custom_1', 'default_vs_custom'),  # 4.1\n",
    "#            ('default_vs_default', 'custom_vs_default'),\n",
    "#            ('custom_vs_default', 'default_vs_default'),\n",
    "            \n",
    "# #            ('custom_vs_custom_1', 'custom_vs_custom_2'),  # as baseline\n",
    "#         ),\n",
    "#     ),\n",
    "#     ('first has incorrect notions',\n",
    "#         (\n",
    "#            ('default_vs_default', 'default_vs_custom'),   # 3.2\n",
    "#            ('default_vs_custom', 'default_vs_default'),  # 4.2\n",
    "#            ('custom_vs_default', 'custom_vs_custom_1'),\n",
    "#            ('custom_vs_custom_1', 'custom_vs_default'),\n",
    "            \n",
    "# #            ('custom_vs_custom_1', 'custom_vs_custom_2'),  # as baseline\n",
    "#         ),\n",
    "#     ),\n",
    "]:\n",
    "    for xlabel, xarray, yarray in [\n",
    "#         ('Utilities skew', np.arange(-1, 1.1, 0.4), np.arange(1, 7)),\n",
    "        ('Fairness coeff', np.arange(0.0, 0.7, 0.1), np.arange(7, 14)),\n",
    "#         ('Prosociality level', np.arange(0, 1.1, 0.2), np.arange(14, 20)),\n",
    "#         ('Hidden layer size', [5, 10, 20, 40, 80, 160], np.arange(20, 26))\n",
    "    ]:\n",
    "        for agent_0_match_regime, agent_1_match_regime in eval_regime_list:\n",
    "            for i, array_pos in enumerate(yarray):\n",
    "#                 if not (agent_0_match_regime, agent_1_match_regime) == ('custom_vs_custom_1', 'custom_vs_custom_2') \\\n",
    "#                    and i == 0:\n",
    "#                     continue\n",
    "#                 if (agent_0_match_regime, agent_1_match_regime) == ('custom_vs_custom_1', 'custom_vs_custom_2'):\n",
    "#                     cross_play = False\n",
    "#                 else:\n",
    "#                     cross_play = True  # in the strong sense, meaning that value functions are different\n",
    "                cross_play = None\n",
    "    \n",
    "                vals = np.array([res['player0_share_of_max'] for res in res_dict[((agent_0_match_regime,\n",
    "                                                                        agent_1_match_regime), array_pos)]])\n",
    "                x = vals.mean()\n",
    "                x_std = vals.std()\n",
    "                vals = np.array([res['player1_share_of_max'] for res in res_dict[((agent_0_match_regime,\n",
    "                                                                        agent_1_match_regime), array_pos)]])\n",
    "                y = vals.mean()\n",
    "                y_std = vals.std()\n",
    "#                 suptitle = f'Value vs {xlabel}, {\"Binding comms\" if binding else \"cheap comms\"}, {eval_regime_name}'\n",
    "#                 print(suptitle, agent_0_match_regime, agent_1_match_regime, reward_name)\n",
    "                all_vals.append((x, y, x_std, y_std, xarray[i], binding, cross_play))\n",
    "#                 print(x, xarray[i])\n",
    "# os.system(f'tar -czvf {img_dir}.tar {img_dir}')\n",
    "\n",
    "x, y, x_std, y_std, param_val, binding_param, cross_play = zip(*all_vals)"
   ]
  },
  {
   "cell_type": "code",
   "execution_count": 6,
   "metadata": {},
   "outputs": [
    {
     "data": {
      "text/plain": [
       "21"
      ]
     },
     "execution_count": 6,
     "metadata": {},
     "output_type": "execute_result"
    }
   ],
   "source": [
    "len(x)"
   ]
  },
  {
   "cell_type": "code",
   "execution_count": null,
   "metadata": {},
   "outputs": [],
   "source": [
    "# ('default_vs_default', 'custom_vs_custom_1'),  # 1:7\n",
    "# ('custom_vs_custom_1', 'custom_vs_custom_2'),  # 7:14\n",
    "\n",
    "# # plt.switch_backend(\"agg\")\n",
    "# plt.style.use(\"seaborn-whitegrid\")\n",
    "# COLORS = list(mcolors.TABLEAU_COLORS) + list(mcolors.XKCD_COLORS)\n",
    "# COLORS = list(mcolors.TABLEAU_COLORS)[:6] + ['black',] + list(mcolors.TABLEAU_COLORS)[:6]\n",
    "# RANDOM_MARKERS = [\"1\", \"2\", \"3\", \"4\", \"8\", \"s\", \"p\", \"P\", \"*\", \"h\", \"H\", \"+\"]\n",
    "# MARKERS = [\"o\", \"s\", \"v\", \"^\", \"<\", \">\", \"P\", \"X\", \"D\", \"*\"] + RANDOM_MARKERS\n",
    "\n",
    "# plt.figure(figsize=(11, 6))\n",
    "# # plt.figure(figsize=(8, 5))\n",
    "# # for i in range(len(x)):\n",
    "# for i in range(13):\n",
    "#     label = f\"{'cross-play' if cross_play[i] else 'self-play'}, IA coeff = {param_val[i]:.1f}\"\n",
    "#     if not cross_play[i]:\n",
    "#         label = f'IA = {param_val[i]:.1f} vs. IA = {param_val[i]:.1f}'\n",
    "#     else:\n",
    "#         label = f'IA = 0.0 vs. IA = {param_val[i]:.1f}'\n",
    "#     color_list = ['#0072B2', '#009E73', '#D55E00', '#CC79A7', '#F0E442', '#56B4E9',   '#000000', '#0072B2', '#009E73', '#D55E00', '#CC79A7', '#F0E442', '#56B4E9',]\n",
    "# #     marker_list = ['<', '>', 'X', '*', 'P', 's',   'd', '<', '>', 'X', '*', 'P', 's']\n",
    "#     marker_list = ['*',]*6 + ['s',]*7\n",
    "#     s = 80 if cross_play[i] else 300\n",
    "#     plt.plot(\n",
    "#         x[i],\n",
    "#         y[i],\n",
    "# #         markerfacecolor=\"none\",\n",
    "#         markeredgecolor=COLORS[i],\n",
    "#         linestyle=\"None\",\n",
    "#         marker=marker_list[i],\n",
    "#         color=COLORS[i],\n",
    "#         label=label,\n",
    "#         markersize=9 if marker_list[i] == 's' else 13\n",
    "#     )\n",
    "    \n",
    "# plt.xlabel('Player 0 value', fontsize=17)\n",
    "# plt.ylabel('Player 1 value', fontsize=17)\n",
    "# plt.xlim((0.23, 0.75))\n",
    "# plt.ylim((0.23, 0.75))\n",
    "# plt.suptitle(f'Average values of agents', fontsize=17)\n",
    "# handles, labels = plt.gca().get_legend_handles_labels()\n",
    "# by_label = dict(zip(labels, handles))\n",
    "# plt.legend(by_label.values(), by_label.keys(), numpoints=1,\n",
    "#     frameon=True,\n",
    "#     fontsize=11,)\n",
    "# #     fontsize=\"small\",)\n",
    "# plt.show()"
   ]
  },
  {
   "cell_type": "code",
   "execution_count": 33,
   "metadata": {},
   "outputs": [
    {
     "data": {
      "image/png": "[encoded data removed]",
      "text/plain": [
       "<Figure size 792x432 with 1 Axes>"
      ]
     },
     "metadata": {},
     "output_type": "display_data"
    }
   ],
   "source": [
    "('default_vs_default', 'custom_vs_custom_1'),  # display 1:7\n",
    "('custom_vs_custom_1', 'custom_vs_custom_2'),  # display 7:14\n",
    "\n",
    "# plt.switch_backend(\"agg\")\n",
    "plt.style.use(\"seaborn-whitegrid\")\n",
    "COLORS = [None,] + list(mcolors.TABLEAU_COLORS)[:6] + ['black',] + list(mcolors.TABLEAU_COLORS)[:6]\n",
    "RANDOM_MARKERS = [None, \"1\", \"2\", \"3\", \"4\", \"8\", \"s\", \"p\", \"P\", \"*\", \"h\", \"H\", \"+\"]\n",
    "marker_list = [None,] + ['*',]*6 + ['s',]*7\n",
    "\n",
    "plt.figure(figsize=(11, 6))\n",
    "# plt.figure(figsize=(8, 5))\n",
    "# for i in range(len(x)):\n",
    "for i in range(1, 14):\n",
    "    if i >= 7:\n",
    "        label = f'IA = {param_val[i]:.1f} vs. IA = {param_val[i]:.1f}'\n",
    "    else:\n",
    "        label = f'IA = 0.0 vs. IA = {param_val[i]:.1f}'\n",
    "    color_list = ['#0072B2', '#009E73', '#D55E00', '#CC79A7', '#F0E442', '#56B4E9',   '#000000', '#0072B2', '#009E73', '#D55E00', '#CC79A7', '#F0E442', '#56B4E9',]\n",
    "#     marker_list = ['<', '>', 'X', '*', 'P', 's',   'd', '<', '>', 'X', '*', 'P', 's']\n",
    "    s = 80 if cross_play[i] else 300\n",
    "    plt.plot(\n",
    "        x[i],\n",
    "        y[i],\n",
    "#         markerfacecolor=\"none\",\n",
    "        markeredgecolor=COLORS[i],\n",
    "        linestyle=\"None\",\n",
    "        marker=marker_list[i],\n",
    "        color=COLORS[i],\n",
    "        label=label,\n",
    "        markersize=9 if marker_list[i] == 's' else 13\n",
    "    )\n",
    "    \n",
    "plt.xlabel('Player 0 value', fontsize=17)\n",
    "plt.ylabel('Player 1 value', fontsize=17)\n",
    "plt.xlim((0.23, 0.75))\n",
    "plt.ylim((0.23, 0.75))\n",
    "plt.suptitle(f'Average values of agents', fontsize=17)\n",
    "handles, labels = plt.gca().get_legend_handles_labels()\n",
    "by_label = dict(zip(labels, handles))\n",
    "plt.legend(by_label.values(), by_label.keys(), numpoints=1,\n",
    "    frameon=True,\n",
    "    fontsize=11,)\n",
    "#     fontsize=\"small\",)\n",
    "plt.show()"
   ]
  },
  {
   "cell_type": "code",
   "execution_count": 9,
   "metadata": {},
   "outputs": [
    {
     "data": {
      "text/plain": [
       "<matplotlib.legend.Legend at 0x7f95c5ee3610>"
      ]
     },
     "execution_count": 9,
     "metadata": {},
     "output_type": "execute_result"
    },
    {
     "data": {
      "image/png": "[encoded data removed]",
      "text/plain": [
       "<Figure size 864x864 with 1 Axes>"
      ]
     },
     "metadata": {},
     "output_type": "display_data"
    }
   ],
   "source": [
    "# plt.figure(figsize=(12, 12))\n",
    "# plt.xlim((0.24, 0.75))\n",
    "# plt.ylim((0.24, 0.75))\n",
    "# for i in range(len(x)):\n",
    "#     label = f\"{'cross-play' if cross_play[i] else 'self-play'}, IA coeff = {param_val[i]:.1f}\"\n",
    "#     color_list = ['#0072B2', '#009E73', '#D55E00', '#CC79A7', '#F0E442', '#56B4E9',   '#000000', '#0072B2', '#009E73', '#D55E00', '#CC79A7', '#F0E442', '#56B4E9',]\n",
    "#     marker_list = ['<', '>', 'X', '*', 'P', 's',   'd', '<', '>', 'X', '*', 'P', 's']\n",
    "#     s = 80 if cross_play[i] else 300\n",
    "#     plt.scatter(x[i], y[i], label=label, color=color_list[i], marker=marker_list[i], s=s)\n",
    "    \n",
    "# plt.xlabel('player 0 value')\n",
    "# plt.ylabel('player 1 value')\n",
    "# plt.suptitle(f'Values for both agents in self-play and cross-play, {\"binding comms\" if binding else \"cheap comms\"}')\n",
    "# handles, labels = plt.gca().get_legend_handles_labels()\n",
    "# by_label = dict(zip(labels, handles))\n",
    "# plt.legend(by_label.values(), by_label.keys(), prop={'size': 15})"
   ]
  },
  {
   "cell_type": "code",
   "execution_count": 69,
   "metadata": {},
   "outputs": [],
   "source": []
  },
  {
   "cell_type": "code",
   "execution_count": null,
   "metadata": {},
   "outputs": [],
   "source": [
    "\n",
    "# Legend\n",
    "plt.legend(\n",
    "    numpoints=1,\n",
    "    frameon=True,\n",
    "    fontsize=\"small\",\n",
    "    )\n",
    "# Plotting lines\n",
    "plt.plot(\n",
    "    df.index,\n",
    "    df[col_i],\n",
    "    label=label_i,\n",
    "    color=COLORS[i],\n",
    ")\n",
    "# Plotting points (with countours only, not filled)\n",
    "plt.plot(\n",
    "    x,\n",
    "    y,\n",
    "    markerfacecolor=\"none\"\n",
    "    markeredgecolor=COLORS[i],\n",
    "    linestyle=\"None\",\n",
    "    marker=MARKERS[i],\n",
    "    color=COLORS[i],\n",
    "    label=label_i,\n",
    ")"
   ]
  },
  {
   "cell_type": "markdown",
   "metadata": {},
   "source": [
    "## Compute mean and std for barplots individually over different runs"
   ]
  },
  {
   "cell_type": "code",
   "execution_count": null,
   "metadata": {},
   "outputs": [],
   "source": [
    "# ('default_vs_default', 'custom_vs_custom_1'),   # 2.2\n",
    "# ('custom_vs_custom_1', 'custom_vs_custom_2'),  # as baseline\n",
    "# ('custom_vs_custom_1', 'custom_vs_custom_1'),  # as baseline"
   ]
  },
  {
   "cell_type": "code",
   "execution_count": 46,
   "metadata": {},
   "outputs": [
    {
     "name": "stdout",
     "output_type": "stream",
     "text": [
      "(0.651958, 0.57897437, 0.5209278, 0.4904595, 0.44816065, 0.3652433) (0.2946116, 0.30257654, 0.31327945, 0.29468426, 0.29970247, 0.25992543)\n"
     ]
    }
   ],
   "source": [
    "print(x[1:7], y[1:7])  # default vs custom, starts from 1"
   ]
  },
  {
   "cell_type": "code",
   "execution_count": 47,
   "metadata": {},
   "outputs": [
    {
     "name": "stdout",
     "output_type": "stream",
     "text": [
      "(0.7376215, 0.6129167, 0.54170287, 0.4994951, 0.46781248, 0.4270572, 0.42730743) (0.30001095, 0.39960298, 0.41811663, 0.42247146, 0.40760374, 0.40898776, 0.3982173)\n"
     ]
    }
   ],
   "source": [
    "print(x[7:14], y[7:14])  # custom vs custom, starts from 0"
   ]
  },
  {
   "cell_type": "code",
   "execution_count": 122,
   "metadata": {},
   "outputs": [],
   "source": [
    "run_vals = []\n",
    "for run_i in range(5):\n",
    "    all_vals = []\n",
    "    for eval_regime_name, eval_regime_list in [\n",
    "        ('placeholder_name',\n",
    "            (\n",
    "    #            ('custom_vs_custom_1', 'default_vs_default'),  # 2.1\n",
    "               ('default_vs_default', 'custom_vs_custom_1'),   # 2.2\n",
    "\n",
    "               ('custom_vs_custom_1', 'custom_vs_custom_2'),  # as baseline\n",
    "               ('custom_vs_custom_1', 'custom_vs_custom_1'),  # as baseline\n",
    "            ),\n",
    "        ),\n",
    "    ]:\n",
    "        for xlabel, xarray, yarray in [\n",
    "            ('Fairness coeff', np.arange(0.0, 0.7, 0.1), np.arange(7, 14)),\n",
    "        ]:\n",
    "            for agent_0_match_regime, agent_1_match_regime in eval_regime_list:\n",
    "                for i, array_pos in enumerate(yarray):\n",
    "#                     cross_play = None\n",
    "\n",
    "#                     vals = np.array(res_dict[((agent_0_match_regime, agent_1_match_regime), array_pos)][run_i]['player0_share_of_max'])\n",
    "#                     x = vals.mean()\n",
    "#                     x_std = vals.std()\n",
    "#                     vals = np.array(res_dict[((agent_0_match_regime, agent_1_match_regime), array_pos)][run_i]['player1_share_of_max'])\n",
    "#                     y = vals.mean()\n",
    "#                     y_std = vals.std()\n",
    "#                     all_vals.append((x, y, x_std, y_std, xarray[i], binding, cross_play))\n",
    "                    \n",
    "                    all_vals.append((np.array(res_dict[((agent_0_match_regime, agent_1_match_regime), array_pos)][run_i]['player0_share_of_max']),\n",
    "                                     np.array(res_dict[((agent_0_match_regime, agent_1_match_regime), array_pos)][run_i]['player1_share_of_max'])))\n",
    "\n",
    "    run_vals.append(all_vals)"
   ]
  },
  {
   "cell_type": "code",
   "execution_count": 123,
   "metadata": {},
   "outputs": [
    {
     "data": {
      "text/plain": [
       "(5, 21, 2, 16384)"
      ]
     },
     "execution_count": 123,
     "metadata": {},
     "output_type": "execute_result"
    }
   ],
   "source": [
    "np.array(run_vals).shape"
   ]
  },
  {
   "cell_type": "code",
   "execution_count": 124,
   "metadata": {},
   "outputs": [],
   "source": [
    "run_vals = np.array(run_vals)"
   ]
  },
  {
   "cell_type": "code",
   "execution_count": null,
   "metadata": {},
   "outputs": [],
   "source": []
  },
  {
   "cell_type": "code",
   "execution_count": null,
   "metadata": {},
   "outputs": [],
   "source": [
    "# distances"
   ]
  },
  {
   "cell_type": "code",
   "execution_count": 95,
   "metadata": {},
   "outputs": [
    {
     "name": "stdout",
     "output_type": "stream",
     "text": [
      "0.5305189161308548 0.000424625506684431\n"
     ]
    }
   ],
   "source": [
    "all_vals = []\n",
    "for ia_i in range(7):\n",
    "    cur_max_payoffs = ia_max_payoffs[ia_i]\n",
    "    cur_max_payoffs = cur_max_payoffs.reshape((1, 1, 2, 1))\n",
    "    cur_dists = np.linalg.norm(run_vals[:, 1:7, :, :] - cur_max_payoffs, axis=2)\n",
    "    all_vals.append(cur_dists)\n",
    "all_vals = np.stack(all_vals, axis=3).min(axis=3)\n",
    "print(all_vals.mean(), all_vals.std() / np.sqrt(all_vals.size))"
   ]
  },
  {
   "cell_type": "code",
   "execution_count": 96,
   "metadata": {},
   "outputs": [
    {
     "name": "stdout",
     "output_type": "stream",
     "text": [
      "0.4041803573397903 0.0004165843958125686\n"
     ]
    }
   ],
   "source": [
    "all_vals = []\n",
    "for ia_i in range(7):\n",
    "    cur_max_payoffs = ia_max_payoffs[ia_i]\n",
    "    cur_max_payoffs = cur_max_payoffs.reshape((1, 1, 2, 1))\n",
    "    cur_dists = np.linalg.norm(run_vals[:, 8:14, :, :] - cur_max_payoffs, axis=2)\n",
    "    all_vals.append(cur_dists)\n",
    "all_vals = np.stack(all_vals, axis=3).min(axis=3)\n",
    "print(all_vals.mean(), all_vals.std() / np.sqrt(all_vals.size))"
   ]
  },
  {
   "cell_type": "code",
   "execution_count": 104,
   "metadata": {},
   "outputs": [
    {
     "name": "stdout",
     "output_type": "stream",
     "text": [
      "0.4673496367353227 0.00030417354727912266\n"
     ]
    }
   ],
   "source": [
    "all_vals = []\n",
    "for ia_i in range(7):\n",
    "    cur_max_payoffs = ia_max_payoffs[ia_i]\n",
    "    cur_max_payoffs = cur_max_payoffs.reshape((1, 1, 2, 1))\n",
    "    cur_dists = np.linalg.norm(np.concatenate([run_vals[:, 1:7, :, :], run_vals[:, 8:14, :, :]], axis=1) - cur_max_payoffs, axis=2)\n",
    "    all_vals.append(cur_dists)\n",
    "all_vals = np.stack(all_vals, axis=3).min(axis=3)\n",
    "print(all_vals.mean(), all_vals.std() / np.sqrt(all_vals.size))"
   ]
  },
  {
   "cell_type": "code",
   "execution_count": 97,
   "metadata": {},
   "outputs": [
    {
     "name": "stdout",
     "output_type": "stream",
     "text": [
      "0.4014471264303261 0.00041116296647391\n"
     ]
    }
   ],
   "source": [
    "all_vals = []\n",
    "for ia_i in range(7):\n",
    "    cur_max_payoffs = ia_max_payoffs[ia_i]\n",
    "    cur_max_payoffs = cur_max_payoffs.reshape((1, 1, 2, 1))\n",
    "    cur_dists = np.linalg.norm(run_vals[:, 15:21, :, :] - cur_max_payoffs, axis=2)\n",
    "    all_vals.append(cur_dists)\n",
    "all_vals = np.stack(all_vals, axis=3).min(axis=3)\n",
    "print(all_vals.mean(), all_vals.std() / np.sqrt(all_vals.size))"
   ]
  },
  {
   "cell_type": "code",
   "execution_count": null,
   "metadata": {},
   "outputs": [],
   "source": []
  },
  {
   "cell_type": "code",
   "execution_count": null,
   "metadata": {},
   "outputs": [],
   "source": [
    "diff w"
   ]
  },
  {
   "cell_type": "code",
   "execution_count": 156,
   "metadata": {},
   "outputs": [
    {
     "name": "stdout",
     "output_type": "stream",
     "text": [
      "0.61603934 0.0006523801960632936\n"
     ]
    }
   ],
   "source": [
    "all_arr = []\n",
    "for ia_i, ia_val in enumerate(np.array(list(range(0, 7))) / 10):\n",
    "    cur_array = (run_vals[:, 1:7, :, :].sum(axis=2) - ia_val * np.abs(run_vals[:, 1:7, 0, :] - run_vals[:, 1:7, 1, :])) / ia_val_w_maximums[ia_i]\n",
    "    all_arr.append(cur_array)\n",
    "#     print(cur_array.shape)\n",
    "maxed = np.array(all_arr).max(axis=0)\n",
    "print(maxed.mean(), maxed.std() / np.sqrt(maxed.size))"
   ]
  },
  {
   "cell_type": "code",
   "execution_count": null,
   "metadata": {},
   "outputs": [],
   "source": [
    "same w"
   ]
  },
  {
   "cell_type": "code",
   "execution_count": 157,
   "metadata": {},
   "outputs": [
    {
     "name": "stdout",
     "output_type": "stream",
     "text": [
      "0.7014281 0.0005678908508526471\n"
     ]
    }
   ],
   "source": [
    "all_arr = []\n",
    "for ia_i, ia_val in enumerate(np.array(list(range(0, 7))) / 10):\n",
    "    cur_array = (run_vals[:, 8:14, :, :].sum(axis=2) - ia_val * np.abs(run_vals[:, 8:14, 0, :] - run_vals[:, 8:14, 1, :])) / ia_val_w_maximums[ia_i]\n",
    "    all_arr.append(cur_array)\n",
    "#     print(cur_array.shape)\n",
    "maxed = np.array(all_arr).max(axis=0)\n",
    "print(maxed.mean(), maxed.std() / np.sqrt(maxed.size))"
   ]
  },
  {
   "cell_type": "code",
   "execution_count": 158,
   "metadata": {},
   "outputs": [
    {
     "name": "stdout",
     "output_type": "stream",
     "text": [
      "0.70739186 0.0005591864380517151\n"
     ]
    }
   ],
   "source": [
    "all_arr = []\n",
    "for ia_i, ia_val in enumerate(np.array(list(range(0, 7))) / 10):\n",
    "    cur_array = (run_vals[:, 15:21, :, :].sum(axis=2) - ia_val * np.abs(run_vals[:, 15:21, 0, :] - run_vals[:, 15:21, 1, :])) / ia_val_w_maximums[ia_i]\n",
    "    all_arr.append(cur_array)\n",
    "#     print(cur_array.shape)\n",
    "maxed = np.array(all_arr).max(axis=0)\n",
    "print(maxed.mean(), maxed.std() / np.sqrt(maxed.size))"
   ]
  },
  {
   "cell_type": "code",
   "execution_count": 159,
   "metadata": {},
   "outputs": [
    {
     "name": "stdout",
     "output_type": "stream",
     "text": [
      "0.6587336 0.0004346024180351794\n"
     ]
    }
   ],
   "source": [
    "all_arr = []\n",
    "for ia_i, ia_val in enumerate(np.array(list(range(0, 7))) / 10):\n",
    "    a = np.concatenate([run_vals[:, 1:7, :, :], run_vals[:, 8:14, :, :]])\n",
    "    cur_array = (a.sum(axis=2) - ia_val * np.abs(a[:, :, 0, :] - a[:, :, 1, :])) / ia_val_w_maximums[ia_i]\n",
    "    all_arr.append(cur_array)\n",
    "#     print(cur_array.shape)\n",
    "maxed = np.array(all_arr).max(axis=0)\n",
    "print(maxed.mean(), maxed.std() / np.sqrt(maxed.size))"
   ]
  },
  {
   "cell_type": "code",
   "execution_count": null,
   "metadata": {},
   "outputs": [],
   "source": []
  },
  {
   "cell_type": "code",
   "execution_count": null,
   "metadata": {},
   "outputs": [],
   "source": []
  },
  {
   "cell_type": "code",
   "execution_count": null,
   "metadata": {},
   "outputs": [],
   "source": []
  },
  {
   "cell_type": "code",
   "execution_count": 131,
   "metadata": {},
   "outputs": [],
   "source": [
    "ia_i = 0\n",
    "ia_val = 0.0"
   ]
  },
  {
   "cell_type": "code",
   "execution_count": 132,
   "metadata": {},
   "outputs": [],
   "source": [
    "diff_w = run_vals[:, 1:7, :, :].sum(axis=2) - ia_val * np.abs(run_vals[:, 1:7, 0, :] - run_vals[:, 1:7, 1, :])"
   ]
  },
  {
   "cell_type": "code",
   "execution_count": 135,
   "metadata": {},
   "outputs": [
    {
     "data": {
      "text/plain": [
       "(0.6029669226212189, 0.0006320291630758559)"
      ]
     },
     "execution_count": 135,
     "metadata": {},
     "output_type": "execute_result"
    }
   ],
   "source": [
    "diff_w.mean() / ia_val_w_maximums[0], diff_w.std() / np.sqrt(diff_w.size) / ia_val_w_maximums[0]"
   ]
  },
  {
   "cell_type": "code",
   "execution_count": 52,
   "metadata": {},
   "outputs": [
    {
     "data": {
      "text/plain": [
       "(0.5092873, 0.38838017, 0.0005539702602204397)"
      ]
     },
     "execution_count": 52,
     "metadata": {},
     "output_type": "execute_result"
    }
   ],
   "source": [
    "# different w, cross_play\n",
    "diff_w = run_vals[:, 1:7, 0, :]\n",
    "diff_w.mean(), diff_w.std(), diff_w.std() / np.sqrt(diff_w.size)"
   ]
  },
  {
   "cell_type": "code",
   "execution_count": 53,
   "metadata": {},
   "outputs": [
    {
     "name": "stdout",
     "output_type": "stream",
     "text": [
      "IA coeff 0.1: mean 0.47328, std 0.00089\n",
      "IA coeff 0.2: mean 0.44078, std 0.00088\n",
      "IA coeff 0.3: mean 0.41710, std 0.00087\n",
      "IA coeff 0.4: mean 0.39257, std 0.00088\n",
      "IA coeff 0.5: mean 0.37393, std 0.00087\n",
      "IA coeff 0.6: mean 0.31258, std 0.00087\n"
     ]
    }
   ],
   "source": [
    "for i in range(1, 7):\n",
    "    cur_array = run_vals[:, i, :, :]\n",
    "    print(f'IA coeff {((i-1) / 10 + 0.1):.1f}: mean {cur_array.mean():.5f}, std {cur_array.std() / np.sqrt(cur_array.size):.5f}')"
   ]
  },
  {
   "cell_type": "code",
   "execution_count": 30,
   "metadata": {},
   "outputs": [
    {
     "name": "stdout",
     "output_type": "stream",
     "text": [
      "IA coeff 0.1: mean 0.50626, std 0.00075\n",
      "IA coeff 0.2: mean 0.47991, std 0.00073\n",
      "IA coeff 0.3: mean 0.46098, std 0.00073\n",
      "IA coeff 0.4: mean 0.43771, std 0.00074\n",
      "IA coeff 0.5: mean 0.41802, std 0.00074\n",
      "IA coeff 0.6: mean 0.41276, std 0.00074\n"
     ]
    }
   ],
   "source": [
    "for i in range(8, 14):\n",
    "    cur_array = run_vals[:, i, :, :]\n",
    "#     print(cur_array.mean(), cur_array.std() / np.sqrt(cur_array.size))\n",
    "    print(f'IA coeff {((i-8) / 10 + 0.1):.1f}: mean {cur_array.mean():.5f}, std {cur_array.std() / np.sqrt(cur_array.size):.5f}')"
   ]
  },
  {
   "cell_type": "code",
   "execution_count": 32,
   "metadata": {},
   "outputs": [
    {
     "name": "stdout",
     "output_type": "stream",
     "text": [
      "IA coeff 0.1: mean 0.50369, std 0.00076\n",
      "IA coeff 0.2: mean 0.49126, std 0.00071\n",
      "IA coeff 0.3: mean 0.46351, std 0.00073\n",
      "IA coeff 0.4: mean 0.44590, std 0.00073\n",
      "IA coeff 0.5: mean 0.42530, std 0.00074\n",
      "IA coeff 0.6: mean 0.41031, std 0.00074\n"
     ]
    }
   ],
   "source": [
    "for i in range(15, 21):\n",
    "    cur_array = run_vals[:, i, :, :]\n",
    "#     print(cur_array.mean(), cur_array.std() / np.sqrt(cur_array.size))\n",
    "    print(f'IA coeff {((i-15) / 10 + 0.1):.1f}: mean {cur_array.mean():.5f}, std {cur_array.std() / np.sqrt(cur_array.size):.5f}')"
   ]
  },
  {
   "cell_type": "code",
   "execution_count": 117,
   "metadata": {},
   "outputs": [
    {
     "data": {
      "text/plain": [
       "(0.45260772, 0.30018157, 0.00030275995115107857)"
      ]
     },
     "execution_count": 117,
     "metadata": {},
     "output_type": "execute_result"
    }
   ],
   "source": [
    "# same w, cross_play\n",
    "same_w = run_vals[:, 8:14, :, :]\n",
    "same_w.mean(), same_w.std(), same_w.std() / np.sqrt(same_w.size)"
   ]
  },
  {
   "cell_type": "code",
   "execution_count": 118,
   "metadata": {},
   "outputs": [],
   "source": [
    "cross_play_overall = np.concatenate([diff_w, same_w], axis=1)"
   ]
  },
  {
   "cell_type": "code",
   "execution_count": 120,
   "metadata": {},
   "outputs": [
    {
     "data": {
      "text/plain": [
       "(0.42715827, 0.33129478, 0.00023627294460431395)"
      ]
     },
     "execution_count": 120,
     "metadata": {},
     "output_type": "execute_result"
    }
   ],
   "source": [
    "cross_play_overall.mean(), cross_play_overall.std(), cross_play_overall.std() / np.sqrt(cross_play_overall.size)"
   ]
  },
  {
   "cell_type": "code",
   "execution_count": 121,
   "metadata": {},
   "outputs": [
    {
     "data": {
      "text/plain": [
       "(0.45666218, 0.2991165, 0.0003016857273810422)"
      ]
     },
     "execution_count": 121,
     "metadata": {},
     "output_type": "execute_result"
    }
   ],
   "source": [
    "# self-play\n",
    "self_play = run_vals[:, 15:21, :, :]\n",
    "self_play.mean(), self_play.std(), self_play.std() / np.sqrt(self_play.size)"
   ]
  },
  {
   "cell_type": "code",
   "execution_count": 42,
   "metadata": {},
   "outputs": [
    {
     "name": "stdout",
     "output_type": "stream",
     "text": [
      "run 0\n",
      "different w, cross-play\n",
      "player 0 0.5173 player 1 0.2916 mean 0.4045\n",
      "same w, cross-play\n",
      "player 0 0.4955 player 1 0.4056 mean 0.4506\n",
      "self-play\n",
      "player 0 0.5152 player 1 0.4106 mean 0.4629\n",
      "run 1\n",
      "different w, cross-play\n",
      "player 0 0.5143 player 1 0.2889 mean 0.4016\n",
      "same w, cross-play\n",
      "player 0 0.4896 player 1 0.4145 mean 0.4521\n",
      "self-play\n",
      "player 0 0.5108 player 1 0.4130 mean 0.4619\n",
      "run 2\n",
      "different w, cross-play\n",
      "player 0 0.5133 player 1 0.2936 mean 0.4035\n",
      "same w, cross-play\n",
      "player 0 0.5027 player 1 0.4026 mean 0.4527\n",
      "self-play\n",
      "player 0 0.5047 player 1 0.4151 mean 0.4599\n",
      "run 3\n",
      "different w, cross-play\n",
      "player 0 0.4973 player 1 0.2980 mean 0.3977\n",
      "same w, cross-play\n",
      "player 0 0.4970 player 1 0.4093 mean 0.4532\n",
      "self-play\n",
      "player 0 0.4999 player 1 0.4058 mean 0.4528\n",
      "run 4\n",
      "different w, cross-play\n",
      "player 0 0.5042 player 1 0.2985 mean 0.4013\n",
      "same w, cross-play\n",
      "player 0 0.4954 player 1 0.4138 mean 0.4546\n",
      "self-play\n",
      "player 0 0.4912 player 1 0.4005 mean 0.4458\n"
     ]
    }
   ],
   "source": [
    "all_accums = []\n",
    "for run_i, all_vals in enumerate(run_vals):\n",
    "    x, y, x_std, y_std, param_val, binding_param, cross_play = zip(*all_vals)\n",
    "    cur_accum = []\n",
    "    \n",
    "    print(f'run {run_i}')\n",
    "    \n",
    "    print('different w, cross-play')\n",
    "    # print(np.array(x[:6] + y[:6]).mean())\n",
    "    # print(np.array(x_std[:6] + y_std[:6]).mean())\n",
    "    cur_x = x[1:7]\n",
    "    cur_y = y[1:7]\n",
    "    print(f'player 0 {np.array(cur_x).mean():.4f} player 1 {np.array(cur_y).mean():.4f} mean {np.array(cur_x + cur_y).mean():.4f}')\n",
    "    # print(np.array(x_std[1:7] + y_std[1:7]).mean())\n",
    "    cur_accum.append(np.array(cur_x).mean())\n",
    "    cur_accum.append(np.array(cur_y).mean())\n",
    "\n",
    "    print('same w, cross-play')\n",
    "    # print(np.array(x[7:13] + y[7:13]).mean())\n",
    "    # print(np.array(x_std[7:13] + y_std[7:13]).mean())\n",
    "    cur_x = x[8:14]\n",
    "    cur_y = y[8:14]\n",
    "    print(f'player 0 {np.array(cur_x).mean():.4f} player 1 {np.array(cur_y).mean():.4f} mean {np.array(cur_x + cur_y).mean():.4f}')\n",
    "    # print(np.array(x[7:14] + y[7:14]).mean())\n",
    "    # print(np.array(x_std[7:14] + y_std[7:14]).mean())\n",
    "    cur_accum.append(np.array(cur_x).mean())\n",
    "    cur_accum.append(np.array(cur_y).mean())\n",
    "\n",
    "    print('self-play')\n",
    "    # print(np.array(x[13:] + y[13:]).mean())\n",
    "    # print(np.array(x_std[13:] + y_std[13:]).mean())\n",
    "    cur_x = x[15:21]\n",
    "    cur_y = y[15:21]\n",
    "    print(f'player 0 {np.array(cur_x).mean():.4f} player 1 {np.array(cur_y).mean():.4f} mean {np.array(cur_x + cur_y).mean():.4f}')\n",
    "    # print(np.array(x[14:] + y[14:]).mean())\n",
    "    # print(np.array(x_std[14:] + y_std[14:]).mean())\n",
    "    cur_accum.append(np.array(cur_x).mean())\n",
    "    cur_accum.append(np.array(cur_y).mean())\n",
    "    \n",
    "    all_accums.append(cur_accum)"
   ]
  },
  {
   "cell_type": "code",
   "execution_count": 40,
   "metadata": {},
   "outputs": [
    {
     "data": {
      "text/plain": [
       "array([0.50928724, 0.29412994, 0.49604863, 0.40916666, 0.50435597,\n",
       "       0.40896836], dtype=float32)"
      ]
     },
     "execution_count": 40,
     "metadata": {},
     "output_type": "execute_result"
    }
   ],
   "source": [
    "np.array(all_accums).mean(axis=0)"
   ]
  },
  {
   "cell_type": "code",
   "execution_count": 69,
   "metadata": {},
   "outputs": [
    {
     "data": {
      "text/plain": [
       "array([0.5173175 , 0.5143005 , 0.51331526, 0.4973495 , 0.50415355],\n",
       "      dtype=float32)"
      ]
     },
     "execution_count": 69,
     "metadata": {},
     "output_type": "execute_result"
    }
   ],
   "source": [
    "np.array(all_accums)[:, 0]"
   ]
  },
  {
   "cell_type": "code",
   "execution_count": 41,
   "metadata": {},
   "outputs": [
    {
     "data": {
      "text/plain": [
       "array([0.00741225, 0.00369066, 0.00419213, 0.00460333, 0.00840667,\n",
       "       0.00525378], dtype=float32)"
      ]
     },
     "execution_count": 41,
     "metadata": {},
     "output_type": "execute_result"
    }
   ],
   "source": [
    "np.array(all_accums).std(axis=0)"
   ]
  },
  {
   "cell_type": "code",
   "execution_count": 52,
   "metadata": {},
   "outputs": [],
   "source": [
    "diff_w = (np.array(all_accums)[:, 0] + np.array(all_accums)[:, 1])/2\n",
    "same_w = (np.array(all_accums)[:, 2] + np.array(all_accums)[:, 3])/2\n",
    "self_play = (np.array(all_accums)[:, 4] + np.array(all_accums)[:, 5])/2"
   ]
  },
  {
   "cell_type": "code",
   "execution_count": 57,
   "metadata": {},
   "outputs": [],
   "source": [
    "all_w = np.concatenate([diff_w, same_w])"
   ]
  },
  {
   "cell_type": "code",
   "execution_count": 58,
   "metadata": {},
   "outputs": [
    {
     "data": {
      "text/plain": [
       "0.42715812"
      ]
     },
     "execution_count": 58,
     "metadata": {},
     "output_type": "execute_result"
    }
   ],
   "source": [
    "all_w.mean()"
   ]
  },
  {
   "cell_type": "code",
   "execution_count": 59,
   "metadata": {},
   "outputs": [
    {
     "data": {
      "text/plain": [
       "0.025520355"
      ]
     },
     "execution_count": 59,
     "metadata": {},
     "output_type": "execute_result"
    }
   ],
   "source": [
    "all_w.std()"
   ]
  },
  {
   "cell_type": "code",
   "execution_count": 54,
   "metadata": {},
   "outputs": [
    {
     "name": "stdout",
     "output_type": "stream",
     "text": [
      "Take mean value over both players and then take mean and std of this over all 5 runs:\n",
      "different w, cross-play\n",
      "0.4017+-0.0023\n",
      "same w, cross-play\n",
      "0.4526+-0.0013\n",
      "self-play\n",
      "0.4567+-0.0065\n"
     ]
    }
   ],
   "source": [
    "print('Take mean value over both players and then take mean and std of this over all 5 runs:')\n",
    "\n",
    "print(f'different w, cross-play')\n",
    "print(f'{diff_w.mean():.4f}+-{diff_w.std():.4f}')\n",
    "\n",
    "print(f'same w, cross-play')\n",
    "print(f'{same_w.mean():.4f}+-{same_w.std():.4f}')\n",
    "\n",
    "print(f'self-play')\n",
    "print(f'{self_play.mean():.4f}+-{self_play.std():.4f}')"
   ]
  },
  {
   "cell_type": "code",
   "execution_count": 64,
   "metadata": {},
   "outputs": [
    {
     "data": {
      "text/plain": [
       "0.275"
      ]
     },
     "execution_count": 64,
     "metadata": {},
     "output_type": "execute_result"
    }
   ],
   "source": [
    "# np.array([0.75, 0.2] * 200).std()"
   ]
  },
  {
   "cell_type": "code",
   "execution_count": null,
   "metadata": {},
   "outputs": [],
   "source": []
  },
  {
   "cell_type": "markdown",
   "metadata": {},
   "source": [
    "# Welfare in cross-play for population training"
   ]
  },
  {
   "cell_type": "code",
   "execution_count": 3,
   "metadata": {},
   "outputs": [],
   "source": [
    "res_dict = defaultdict(list)\n",
    "\n",
    "binding = True\n",
    "root_path = '/home/alexander/ray_results/population_experiments/2021_04_20/14_01_26'\n",
    "results_filename = os.path.join('cross_play_evals', 'results_' + '_'.join(root_path.split('/')[-3:]) + '.pickle')\n",
    "# results_filename = os.path.join('cross_play_evals', 'results_' + '_'.join(root_path.split('/')[-3:]) + '_b.pickle')\n",
    "results = pickle.load(open(results_filename, 'rb'))\n",
    "for res in results:\n",
    "#     print(res[0], res[1])\n",
    "    res_dict[(res[0], res[1])].append(res[3])\n",
    "    \n",
    "binding = True\n",
    "root_path_single = '/home/alexander/ray_results/cross_play_20K_episodes_binding/2021_03_23/12_37_37'\n",
    "results_filename_single = os.path.join('cross_play_evals', 'results_' + '_'.join(root_path_single.split('/')[-3:]) + '.pickle')\n",
    "results_single = pickle.load(open(results_filename_single, 'rb'))\n",
    "for res in results_single:\n",
    "    res_dict[(res[0], res[1])].append(res[3])"
   ]
  },
  {
   "cell_type": "code",
   "execution_count": 18,
   "metadata": {},
   "outputs": [],
   "source": [
    "# default_cycler = (cycler(color=['r', 'g', 'b', 'y']) +\n",
    "#                   cycler(linestyle=['-', '--', ':', '-.']))\n",
    "\n",
    "# CB_color_cycle = ['#377eb8', '#ff7f00', '#4daf4a',\n",
    "#                   '#f781bf', '#a65628', '#984ea3',\n",
    "#                   '#999999', '#e41a1c', '#dede00']\n",
    "\n",
    "# axes.prop_cycle: cycler(color, [#0072B2, #009E73, #D55E00, #CC79A7,\n",
    "#                  #F0E442, #56B4E9])"
   ]
  },
  {
   "cell_type": "code",
   "execution_count": null,
   "metadata": {},
   "outputs": [],
   "source": [
    "# for eval_regime_name, eval_regime_list in [\n",
    "#     #   for ('default_vs_custom_pop_1', 'custom_pop_vs_custom_1') eval - population training\n",
    "#     ('default pop vs custom pop', \n",
    "#         (\n",
    "#             ('pop_2_default_constant_vs_pop_2_custom_binary', 'pop_2_custom_binary_vs_pop_2_custom_constant_1'),\n",
    "#             ('pop_6_default_constant_vs_pop_6_custom_binary', 'pop_6_custom_binary_vs_pop_6_custom_constant_1',),\n",
    "#             ('pop_6_default_constant_vs_pop_6_custom_uniform', 'pop_6_custom_uniform_vs_pop_6_custom_constant_1',),\n",
    "#             ('pop_2_default_constant_vs_pop_2_custom_constant', 'pop_2_custom_constant_vs_pop_2_custom_constant_1',),\n",
    "#             ('pop_6_default_constant_vs_pop_6_custom_constant', 'pop_6_custom_constant_vs_pop_6_custom_constant_1',),\n",
    "#         )\n",
    "#     ),\n",
    "#     #   for ('custom_1_vs_custom_pop', 'custom_pop_vs_custom_2') eval - baseline\n",
    "#     ('custom pop vs custom pop',\n",
    "#         (\n",
    "#             ('pop_2_custom_constant_vs_pop_2_custom_binary', 'pop_2_custom_binary_vs_pop_2_custom_constant_2'),\n",
    "#             ('pop_6_custom_constant_vs_pop_6_custom_binary', 'pop_6_custom_binary_vs_pop_6_custom_constant_2'),\n",
    "#             ('pop_6_custom_constant_vs_pop_6_custom_uniform', 'pop_6_custom_uniform_vs_pop_6_custom_constant_2'),\n",
    "#             ('pop_2_custom_constant_vs_pop_2_custom_constant_3', 'pop_2_custom_constant_vs_pop_2_custom_constant_2'),\n",
    "#             ('pop_6_custom_constant_vs_pop_6_custom_constant_3', 'pop_6_custom_constant_vs_pop_6_custom_constant_2'),\n",
    "#         ),\n",
    "#     ),\n",
    "# ]:\n",
    "eval_lists = [\n",
    "    (\n",
    "        ('pop_2_default_constant_vs_pop_2_custom_binary', 'pop_2_custom_binary_vs_pop_2_custom_constant_1'),\n",
    "        ('pop_6_default_constant_vs_pop_6_custom_binary', 'pop_6_custom_binary_vs_pop_6_custom_constant_1',),\n",
    "        ('pop_6_default_constant_vs_pop_6_custom_uniform', 'pop_6_custom_uniform_vs_pop_6_custom_constant_1',),\n",
    "        ('pop_2_default_constant_vs_pop_2_custom_constant', 'pop_2_custom_constant_vs_pop_2_custom_constant_1',),\n",
    "        ('pop_6_default_constant_vs_pop_6_custom_constant', 'pop_6_custom_constant_vs_pop_6_custom_constant_1',),\n",
    "    ),\n",
    "    (\n",
    "        ('pop_2_custom_constant_vs_pop_2_custom_binary', 'pop_2_custom_binary_vs_pop_2_custom_constant_2'),\n",
    "        ('pop_6_custom_constant_vs_pop_6_custom_binary', 'pop_6_custom_binary_vs_pop_6_custom_constant_2'),\n",
    "        ('pop_6_custom_constant_vs_pop_6_custom_uniform', 'pop_6_custom_uniform_vs_pop_6_custom_constant_2'),\n",
    "        ('pop_2_custom_constant_vs_pop_2_custom_constant_3', 'pop_2_custom_constant_vs_pop_2_custom_constant_2'),\n",
    "        ('pop_6_custom_constant_vs_pop_6_custom_constant_3', 'pop_6_custom_constant_vs_pop_6_custom_constant_2'),\n",
    "    ),\n",
    "]\n",
    "for eval_regime_i in range(len(eval_lists[0])):\n",
    "    for xlabel, xarray, yarray in [\n",
    "        # first index in yarray is responsible for default_params, skip it\n",
    "        ('Fairness coeff', np.arange(0.0, 0.6, 0.1), None,),\n",
    "    #         ('Fairness coeff (fully coop)', np.arange(0.0, 0.6, 0.1), np.arange(7, 13)),\n",
    "    ]:\n",
    "        plt.figure(figsize=(12, 8))\n",
    "        custom_cycler = (cycler(color=['#377eb8', '#4daf4a', '#ff7f00', '#e41a1c']) +\n",
    "                  cycler(linestyle=['-', '--', ':', (0, (1, 10))]))\n",
    "#                   cycler(linestyle=['-', '--', ':', '-.']))\n",
    "        ax = plt.gca()\n",
    "        ax.set_prop_cycle(custom_cycler)\n",
    "    #     for agent_0_match_regime, agent_1_match_regime in eval_lists:\n",
    "    \n",
    "        cur_evals = [eval_list[eval_regime_i] + (np.arange(1, 7),) for eval_list in eval_lists] + \\\n",
    "            [('default_vs_default', 'custom_vs_custom_1', np.arange(7, 13)), ('custom_vs_custom_1', 'custom_vs_custom_2', np.arange(7, 13)),]\n",
    "#         np.arange(1, 7)\n",
    "#         np.arange(7, 14)\n",
    "        for (cur_agent_0_match_regime, cur_agent_1_match_regime, yarray) in cur_evals:\n",
    "#             print(cur_agent_0_match_regime, cur_agent_1_match_regime, yarray)\n",
    "#             print(yarray)\n",
    "#             for y in yarray:\n",
    "#                 print(len(res_dict[((cur_agent_0_match_regime, cur_agent_1_match_regime), y)]))\n",
    "#         for (cur_agent_0_match_regime, cur_agent_1_match_regime) in [\n",
    "#             (agent_0_match_regime, agent_1_match_regime),\n",
    "#             (agent_0_match_regime.replace('default_constant', 'custom_constant'),\n",
    "#              agent_1_match_regime.replace('default_constant', 'custom_constant'))]:\n",
    "            welfare_vals = []\n",
    "            welfare_stds = []\n",
    "#             welfare_positive_vals = []\n",
    "#             welfare_positive_stds = []\n",
    "            for y in yarray:\n",
    "                vals = np.array([res['sum_share_of_max'] for res in res_dict[((cur_agent_0_match_regime, cur_agent_1_match_regime), y)]])\n",
    "#                 print(cur_agent_0_)\n",
    "#                 print(agent_0_match_regime, agent_1_match_regime)\n",
    "#                 print(xlabel, xarray, yarray)\n",
    "#                 print(vals.shape)\n",
    "                welfare_vals.append(vals.mean())\n",
    "                welfare_stds.append(vals.mean(axis=1).std())\n",
    "#                 welfare_positive = (vals > 0)\n",
    "#                 welfare_positive_vals.append(welfare_positive.mean())\n",
    "#                 welfare_positive_stds.append(welfare_positive.mean(axis=1).std())\n",
    "            plt.scatter(xarray, welfare_vals,)\n",
    "            bar = plt.errorbar(xarray, welfare_vals, yerr=welfare_stds, label=f'{cur_agent_0_match_regime}, {cur_agent_1_match_regime}')\n",
    "#             plt.scatter(xarray, welfare_positive_vals,\n",
    "#                         label=f'{agent_0_match_regime}, {agent_1_match_regime}')\n",
    "#             plt.errorbar(xarray, welfare_positive_vals, yerr=welfare_positive_stds)\n",
    "\n",
    "        plt.ylim(0.3, 1)\n",
    "        plt.ylabel('Welfare, share of maximum possible welfare')\n",
    "#             plt.ylabel('% of positive-welfare games')\n",
    "        plt.xlabel(xlabel)\n",
    "        suptitle = f'Welfare vs {xlabel}, {\"Binding comms\" if binding else \"cheap comms\"}'\n",
    "#             suptitle = f'Welfare vs {xlabel}, {\"Binding comms\" if binding else \"cheap comms\"}, {eval_regime_name}'\n",
    "        plt.suptitle(suptitle)\n",
    "        plt.legend()\n",
    "#             plt.savefig(os.path.join(img_dir, suptitle + '.png'), bbox_inches='tight')\n",
    "# os.system(f'tar -czvf {img_dir}.tar {img_dir}')"
   ]
  },
  {
   "cell_type": "code",
   "execution_count": null,
   "metadata": {},
   "outputs": [],
   "source": []
  },
  {
   "cell_type": "markdown",
   "metadata": {},
   "source": [
    "# Best response eval"
   ]
  },
  {
   "cell_type": "code",
   "execution_count": 28,
   "metadata": {},
   "outputs": [],
   "source": [
    "binding = True\n",
    "\n",
    "root_path = '/home/alexander/ray_results/cross_play_20K_episodes_binding/2021_03_23/12_37_37'\n",
    "results_filename = os.path.join('cross_play_evals', 'results_' + '_'.join(root_path.split('/')[-3:]) + '.pickle')\n",
    "results = pickle.load(open(results_filename, 'rb'))\n",
    "res_dict = defaultdict(list)\n",
    "for res in results:\n",
    "    res_dict[(res[0], res[1])].append(res[3])\n",
    "\n",
    "br_fixed_0_root_path = '/home/alexander/ray_results/cross_play_20K_episodes_best_response_fixed_agent_0/2021_05_03/00_35_50'\n",
    "br_fixed_0_results_filename = os.path.join('cross_play_evals', 'results_' + '_'.join(br_fixed_0_root_path.split('/')[-3:]) + '.pickle')\n",
    "br_fixed_0_results = pickle.load(open(br_fixed_0_results_filename, 'rb'))\n",
    "br_fixed_0_res_dict = defaultdict(list)\n",
    "for res in br_fixed_0_results:\n",
    "    br_fixed_0_res_dict[(res[0], res[1])].append(res[3])\n",
    "\n",
    "br_fixed_1_root_path = '/home/alexander/ray_results/cross_play_20K_episodes_best_response_fixed_agent_1/2021_05_03/09_05_24'\n",
    "br_fixed_1_results_filename = os.path.join('cross_play_evals', 'results_' + '_'.join(br_fixed_1_root_path.split('/')[-3:]) + '.pickle')\n",
    "br_fixed_1_results = pickle.load(open(br_fixed_1_results_filename, 'rb'))\n",
    "br_fixed_1_res_dict = defaultdict(list)\n",
    "for res in br_fixed_1_results:\n",
    "    br_fixed_1_res_dict[(res[0], res[1])].append(res[3])"
   ]
  },
  {
   "cell_type": "code",
   "execution_count": 26,
   "metadata": {},
   "outputs": [],
   "source": [
    "# img_dir = results_filename[:-7]\n",
    "# os.makedirs(img_dir, exist_ok=True)"
   ]
  },
  {
   "cell_type": "code",
   "execution_count": null,
   "metadata": {},
   "outputs": [],
   "source": [
    "for eval_regime_name, eval_regime_list in [\n",
    "    ('self-play',\n",
    "        (\n",
    "            ('custom_vs_custom_1', 'custom_vs_custom_1'),\n",
    "        )\n",
    "    )\n",
    "#     ('both have incorrect notions',\n",
    "#         (\n",
    "#            ('custom_vs_custom_1', 'default_vs_default'),  # 2.1\n",
    "#            ('default_vs_default', 'custom_vs_custom_1'),   # 2.2\n",
    "            \n",
    "#            ('custom_vs_custom_1', 'custom_vs_custom_2'),  # as baseline\n",
    "#         ),\n",
    "#     ),\n",
    "#     ('second has incorrect notions',\n",
    "#         (\n",
    "#            ('default_vs_custom', 'custom_vs_custom_1'),   # 3.1\n",
    "#            ('custom_vs_custom_1', 'default_vs_custom'),  # 4.1\n",
    "#            ('default_vs_default', 'custom_vs_default'),\n",
    "#            ('custom_vs_default', 'default_vs_default'),\n",
    "            \n",
    "#            ('custom_vs_custom_1', 'custom_vs_custom_2'),  # as baseline\n",
    "#         ),\n",
    "#     ),\n",
    "#     ('first has incorrect notions',\n",
    "#         (\n",
    "#            ('default_vs_default', 'default_vs_custom'),   # 3.2\n",
    "#            ('default_vs_custom', 'default_vs_default'),  # 4.2\n",
    "#            ('custom_vs_default', 'custom_vs_custom_1'),\n",
    "#            ('custom_vs_custom_1', 'custom_vs_default'),\n",
    "            \n",
    "#            ('custom_vs_custom_1', 'custom_vs_custom_2'),  # as baseline\n",
    "#         ),\n",
    "#     ),\n",
    "]:\n",
    "    for xlabel, xarray, yarray in [\n",
    "        ('Utilities skew', np.arange(-1, 1.1, 0.4), np.arange(1, 7)),\n",
    "        ('Fairness coeff', np.arange(0.0, 0.7, 0.1), np.arange(7, 14)),\n",
    "        ('Prosociality level', np.arange(0, 1.1, 0.2), np.arange(14, 20)),\n",
    "        ('Hidden layer size', [5, 10, 20, 40, 80, 160], np.arange(20, 26))\n",
    "    ]:\n",
    "        plt.figure(figsize=(10, 7))\n",
    "        for agent_0_match_regime, agent_1_match_regime in eval_regime_list:\n",
    "            reward_names = []\n",
    "            if agent_0_match_regime.startswith('custom'):\n",
    "                reward_names.append('player0_share_of_max')\n",
    "            if agent_1_match_regime.endswith('custom') or agent_1_match_regime.endswith('custom_1') \\\n",
    "                or agent_1_match_regime.endswith('custom_2'):\n",
    "                reward_names.append('player1_share_of_max')\n",
    "            for reward_name in reward_names:\n",
    "                welfare_vals = []\n",
    "                welfare_stds = []\n",
    "                for y in yarray:\n",
    "                    vals = np.array([res[reward_name] for res in res_dict[((agent_0_match_regime,\n",
    "                                                                            agent_1_match_regime), y)]])\n",
    "                    welfare_vals.append(vals.mean())\n",
    "                    welfare_stds.append(vals.mean(axis=1).std())\n",
    "                plt.scatter(xarray, welfare_vals,\n",
    "                            label=f'{agent_0_match_regime}, {agent_1_match_regime}, {reward_name}')\n",
    "                plt.errorbar(xarray, welfare_vals, yerr=welfare_stds)\n",
    "                \n",
    "#                 br_fixed_0_welfare_vals = []\n",
    "#                 br_fixed_0_welfare_stds = []\n",
    "#                 for y in yarray:\n",
    "#                     vals = np.array([res[reward_name] for res in br_fixed_0_res_dict[((agent_0_match_regime,\n",
    "#                                                                             agent_1_match_regime), y)]])\n",
    "#                     br_fixed_0_welfare_vals.append(vals.mean())\n",
    "#                     br_fixed_0_welfare_stds.append(vals.mean(axis=1).std())\n",
    "#                 plt.scatter(xarray, br_fixed_0_welfare_vals,\n",
    "#                             label=f'{agent_0_match_regime}, {agent_1_match_regime}, 0 vs BR, {reward_name}')\n",
    "#                 plt.errorbar(xarray, br_fixed_0_welfare_vals, yerr=br_fixed_0_welfare_stds)\n",
    "                \n",
    "                br_fixed_1_welfare_vals = []\n",
    "                br_fixed_1_welfare_stds = []\n",
    "                for y in yarray:\n",
    "                    vals = np.array([res[reward_name] for res in br_fixed_1_res_dict[((agent_0_match_regime,\n",
    "                                                                            agent_1_match_regime), y)]])\n",
    "                    br_fixed_1_welfare_vals.append(vals.mean())\n",
    "                    br_fixed_1_welfare_stds.append(vals.mean(axis=1).std())\n",
    "                plt.scatter(xarray, br_fixed_1_welfare_vals,\n",
    "                            label=f'{agent_0_match_regime}, {agent_1_match_regime}, BR vs 1, {reward_name}')\n",
    "                plt.errorbar(xarray, br_fixed_1_welfare_vals, yerr=br_fixed_1_welfare_stds)\n",
    "                \n",
    "                plt.ylabel('Agent value')\n",
    "                plt.xlabel(xlabel)\n",
    "#                 suptitle = f'Value vs {xlabel}, {\"Binding comms\" if binding else \"cheap comms\"}, {eval_regime_name}'\n",
    "                suptitle = f'Value vs {xlabel}, {\"Binding comms\" if binding else \"cheap comms\"}'\n",
    "                plt.suptitle(suptitle)\n",
    "                plt.legend()\n",
    "#                 plt.savefig(os.path.join(img_dir, suptitle + '.png'), bbox_inches='tight')\n",
    "# os.system(f'tar -czvf {img_dir}.tar {img_dir}')"
   ]
  },
  {
   "cell_type": "code",
   "execution_count": null,
   "metadata": {},
   "outputs": [],
   "source": []
  },
  {
   "cell_type": "code",
   "execution_count": null,
   "metadata": {},
   "outputs": [],
   "source": []
  }
 ],
 "metadata": {
  "kernelspec": {
   "display_name": "Python 3",
   "language": "python",
   "name": "python3"
  },
  "language_info": {
   "codemirror_mode": {
    "name": "ipython",
    "version": 3
   },
   "file_extension": ".py",
   "mimetype": "text/x-python",
   "name": "python",
   "nbconvert_exporter": "python",
   "pygments_lexer": "ipython3",
   "version": "3.8.5"
  }
 },
 "nbformat": 4,
 "nbformat_minor": 5
}
