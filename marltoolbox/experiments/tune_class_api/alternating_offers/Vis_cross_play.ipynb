{
 "cells": [
  {
   "cell_type": "code",
   "execution_count": 1,
   "id": "advance-charge",
   "metadata": {},
   "outputs": [],
   "source": [
    "import os\n",
    "import pickle\n",
    "from tqdm import tqdm, trange\n",
    "import os\n",
    "import numpy as np\n",
    "from collections import defaultdict"
   ]
  },
  {
   "cell_type": "code",
   "execution_count": 2,
   "id": "latter-juice",
   "metadata": {},
   "outputs": [],
   "source": [
    "import seaborn as sns\n",
    "import matplotlib.pyplot as plt\n",
    "%matplotlib inline\n",
    "sns.set_style(\"darkgrid\")"
   ]
  },
  {
   "cell_type": "code",
   "execution_count": 21,
   "id": "narrow-ghost",
   "metadata": {},
   "outputs": [],
   "source": [
    "# binding = False\n",
    "# root_path = '/home/alex_grig_lyzhov/ray_results/cross_play_20K_episodes/2021_03_18/22_47_17'\n",
    "\n",
    "binding = True\n",
    "root_path = '/home/alex_grig_lyzhov/ray_results/cross_play_20K_episodes_binding/2021_03_20/20_17_24'\n",
    "\n",
    "results_filename = os.path.join('results', 'results_' + '_'.join(root_path.split('/')[-3:]) + '.pickle')\n",
    "results = pickle.load(open(results_filename, 'rb'))"
   ]
  },
  {
   "cell_type": "code",
   "execution_count": 22,
   "id": "functional-event",
   "metadata": {},
   "outputs": [],
   "source": [
    "img_dir = results_filename[:-7]\n",
    "os.makedirs(img_dir, exist_ok=True)"
   ]
  },
  {
   "cell_type": "code",
   "execution_count": null,
   "id": "defensive-preference",
   "metadata": {},
   "outputs": [],
   "source": [
    "for eval_regime_name, eval_regime_list in [\n",
    "    ('agents of the same type', \n",
    "        (('custom_vs_custom_1', 'custom_vs_custom_1'),  # normal eval\n",
    "        ('custom_vs_custom_1', 'custom_vs_custom_2'),)   # simplest (1)\n",
    "    ),\n",
    "    ('both have incorrect notions',\n",
    "        (\n",
    "           ('custom_vs_custom_1', 'default_vs_default'),  # 2.1\n",
    "           ('default_vs_default', 'custom_vs_custom_1'),   # 2.2\n",
    "           ('custom_vs_custom_1', 'custom_vs_custom_2'),  # as baseline\n",
    "        ),\n",
    "    ),\n",
    "    ('second has incorrect notions',\n",
    "        (\n",
    "           ('default_vs_custom', 'custom_vs_custom_1'),   # 3.1\n",
    "           ('custom_vs_custom_1', 'default_vs_custom'),  # 4.1\n",
    "           ('custom_vs_custom_1', 'custom_vs_custom_2'),  # as baseline\n",
    "        ),\n",
    "    ),\n",
    "    ('first has incorrect notions',\n",
    "        (\n",
    "           ('default_vs_default', 'default_vs_custom'),   # 3.2\n",
    "           ('default_vs_custom', 'default_vs_default'),  # 4.2\n",
    "           ('custom_vs_custom_1', 'custom_vs_custom_2'),  # as baseline\n",
    "        ),\n",
    "    ),\n",
    "]:\n",
    "    for xlabel, xarray, yarray in [\n",
    "        ('Utilities skew', np.arange(-1, 1.1, 0.4), np.arange(1, 7)),\n",
    "        ('Fairness coeff', np.arange(0.0, 0.7, 0.1), np.arange(7, 14)),\n",
    "        ('Prosociality level', np.arange(0, 1.1, 0.2), np.arange(14, 20)),\n",
    "        ('Hidden layer size', [5, 10, 20, 40, 80, 160], np.arange(20, 26))\n",
    "    ]:\n",
    "        plt.figure(figsize=(10, 7))\n",
    "        for agent_0_match_regime, agent_1_match_regime in eval_regime_list:\n",
    "            welfare_vals = np.array([res['sum_share_of_max'] for res in results[(agent_0_match_regime, agent_1_match_regime)]])[yarray, :]\n",
    "            welfare_vals = welfare_vals.mean(axis=1)\n",
    "            plt.scatter(xarray, welfare_vals,\n",
    "                        label=f'{agent_0_match_regime}, {agent_1_match_regime}')\n",
    "            plt.ylabel('Welfare')\n",
    "            plt.xlabel(xlabel)\n",
    "            suptitle = f'Welfare vs {xlabel}, {\"Binding comms\" if binding else \"cheap comms\"}, {eval_regime_name}'\n",
    "            plt.suptitle(suptitle)\n",
    "            plt.legend()\n",
    "            plt.savefig(os.path.join(img_dir, suptitle + '.png'), bbox_inches='tight')\n",
    "os.system(f'tar -czvf {img_dir}.tar {img_dir}')"
   ]
  },
  {
   "cell_type": "code",
   "execution_count": 20,
   "id": "weekly-saskatchewan",
   "metadata": {},
   "outputs": [
    {
     "data": {
      "text/plain": [
       "0"
      ]
     },
     "execution_count": 20,
     "metadata": {},
     "output_type": "execute_result"
    }
   ],
   "source": []
  },
  {
   "cell_type": "code",
   "execution_count": null,
   "id": "false-adolescent",
   "metadata": {},
   "outputs": [],
   "source": []
  }
 ],
 "metadata": {
  "kernelspec": {
   "display_name": "Python 3",
   "language": "python",
   "name": "python3"
  },
  "language_info": {
   "codemirror_mode": {
    "name": "ipython",
    "version": 3
   },
   "file_extension": ".py",
   "mimetype": "text/x-python",
   "name": "python",
   "nbconvert_exporter": "python",
   "pygments_lexer": "ipython3",
   "version": "3.8.5"
  }
 },
 "nbformat": 4,
 "nbformat_minor": 5
}
