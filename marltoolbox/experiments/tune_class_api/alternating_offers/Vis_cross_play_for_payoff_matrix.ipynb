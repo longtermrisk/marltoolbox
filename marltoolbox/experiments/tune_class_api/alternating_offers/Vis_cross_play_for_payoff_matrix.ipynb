{
 "cells": [
  {
   "cell_type": "code",
   "execution_count": 1,
   "metadata": {},
   "outputs": [],
   "source": [
    "import os\n",
    "import pickle\n",
    "from tqdm import tqdm, trange\n",
    "import os\n",
    "import numpy as np\n",
    "from collections import defaultdict\n",
    "\n",
    "import seaborn as sns\n",
    "import matplotlib.pyplot as plt\n",
    "import matplotlib.colors as mcolors\n",
    "%matplotlib inline\n",
    "sns.set_style(\"darkgrid\")\n",
    "import matplotlib.cm as cm"
   ]
  },
  {
   "cell_type": "markdown",
   "metadata": {},
   "source": [
    "## Now visualize the empirical game matrix"
   ]
  },
  {
   "cell_type": "code",
   "execution_count": 62,
   "metadata": {},
   "outputs": [],
   "source": [
    "# f = open('cross_play_evals/results_cross_play_20K_episodes_binding_for_payoff_matrix_1_2021_03_23_12_37_37.pickle', \"rb\")\n",
    "# f = open('cross_play_evals/results_cross_play_20K_episodes_binding_prosocial_2021_05_15_09_10_05.pickle', \"rb\")\n",
    "f = open('cross_play_evals/results_more_games_cross_play_20K_episodes_binding_prosocial_2021_05_20_01_53_31.pickle', 'rb')"
   ]
  },
  {
   "cell_type": "code",
   "execution_count": 63,
   "metadata": {},
   "outputs": [],
   "source": [
    "binary_data = f.read() # 10 mins max"
   ]
  },
  {
   "cell_type": "code",
   "execution_count": 64,
   "metadata": {},
   "outputs": [],
   "source": [
    "results = pickle.loads(binary_data) # 1 min"
   ]
  },
  {
   "cell_type": "code",
   "execution_count": 65,
   "metadata": {},
   "outputs": [
    {
     "name": "stderr",
     "output_type": "stream",
     "text": [
      "100%|██████████| 3600/3600 [00:00<00:00, 703348.91it/s]\n"
     ]
    }
   ],
   "source": [
    "res_dict = defaultdict(list)\n",
    "for res in tqdm(results):\n",
    "    res_dict[(res[0], res[1])].append(res[3])"
   ]
  },
  {
   "cell_type": "code",
   "execution_count": 6,
   "metadata": {},
   "outputs": [],
   "source": [
    "k = list(res_dict.keys())"
   ]
  },
  {
   "cell_type": "code",
   "execution_count": 7,
   "metadata": {},
   "outputs": [
    {
     "data": {
      "text/plain": [
       "[(('custom_vs_custom_1', 'custom_vs_custom_2'), 0),\n",
       " (('default_vs_default', 'default_vs_default'), 0),\n",
       " (('custom_vs_custom_1', 'default_vs_default'), 0),\n",
       " (('default_vs_default', 'custom_vs_custom_1'), 0),\n",
       " (('default_vs_custom', 'custom_vs_custom_1'), 0),\n",
       " (('custom_vs_custom_1', 'default_vs_custom'), 0)]"
      ]
     },
     "execution_count": 7,
     "metadata": {},
     "output_type": "execute_result"
    }
   ],
   "source": [
    "k"
   ]
  },
  {
   "cell_type": "code",
   "execution_count": 8,
   "metadata": {},
   "outputs": [
    {
     "data": {
      "text/plain": [
       "2500"
      ]
     },
     "execution_count": 8,
     "metadata": {},
     "output_type": "execute_result"
    }
   ],
   "source": [
    "len(res_dict[k[0]])"
   ]
  },
  {
   "cell_type": "code",
   "execution_count": 9,
   "metadata": {},
   "outputs": [
    {
     "data": {
      "text/plain": [
       "{'player0_raw': array([ 6., 14.,  0., ..., 10., 11., 16.], dtype=float32),\n",
       " 'player1_raw': array([ 8.,  5.,  0., ...,  4.,  2., 15.], dtype=float32),\n",
       " 'sum_raw': array([14., 19.,  0., ..., 14., 13., 31.], dtype=float32),\n",
       " 'player0_share_of_max': array([1.       , 0.875    , 0.       , ..., 0.6666667, 0.9166667,\n",
       "        0.8      ], dtype=float32),\n",
       " 'player1_share_of_max': array([0.22857143, 0.2       , 0.        , ..., 0.33333334, 0.18181819,\n",
       "        1.        ], dtype=float32),\n",
       " 'sum_share_of_max': array([0.4       , 0.61290324, 0.        , ..., 0.7777778 , 0.8666667 ,\n",
       "        0.8857143 ], dtype=float32),\n",
       " 'difference_in_share_of_max': array([0.7714286 , 0.675     , 0.        , ..., 0.33333334, 0.7348485 ,\n",
       "        0.19999999], dtype=float32),\n",
       " 'num_turns': array([6, 4, 4, ..., 4, 4, 4])}"
      ]
     },
     "execution_count": 9,
     "metadata": {},
     "output_type": "execute_result"
    }
   ],
   "source": [
    "res_dict[k[0]][0]"
   ]
  },
  {
   "cell_type": "code",
   "execution_count": null,
   "metadata": {},
   "outputs": [],
   "source": []
  },
  {
   "cell_type": "code",
   "execution_count": null,
   "metadata": {},
   "outputs": [],
   "source": []
  },
  {
   "cell_type": "code",
   "execution_count": 66,
   "metadata": {},
   "outputs": [],
   "source": [
    "import datetime\n",
    "from ray import tune\n",
    "import os\n",
    "import torch\n",
    "import pickle\n",
    "from tqdm import tqdm, trange\n",
    "from tqdm.contrib.concurrent import process_map\n",
    "import numpy as np\n",
    "from collections import defaultdict\n",
    "import multiprocessing\n",
    "\n",
    "from marltoolbox.algos.alternating_offers.alt_offers_training import AltOffersTraining, run_episode\n",
    "from marltoolbox.algos.alternating_offers.envs.alt_offers_env import AltOffersEnv\n",
    "from marltoolbox.experiments.tune_class_api.alternating_offers.cond_params import cond_params_iter, cond_params_iter_pop_training, default_cond_params, round_cond_params\n",
    "\n",
    "\n",
    "# eval_episodes = 128\n",
    "# checkpoint_dir_name = 'checkpoint_312'  # for 20K episodes\n",
    "\n",
    "# cond_params - changing agent parameters and not trial parameters here\n",
    "cond_params_list = list(cond_params_iter())\n",
    "\n",
    "# root_path = '/home/alex_grig_lyzhov/ray_results/cross_play_20K_episodes/2021_03_18/22_47_17'\n",
    "# binding = False\n",
    "\n",
    "# root_path = '/home/alex_grig_lyzhov/ray_results/cross_play_20K_episodes_binding/2021_03_20/20_17_24'\n",
    "# binding = True\n",
    "\n",
    "# root_path = '/home/alexander/ray_results/cross_play_20K_episodes_cheap/2021_03_24/05_30_06'\n",
    "# binding = False\n",
    "\n",
    "# root_path = '/home/alexander/ray_results/cross_play_20K_episodes_binding/2021_03_23/12_37_37'\n",
    "# binding = True\n",
    "\n",
    "root_path = '/home/alexander/ray_results/cross_play_20K_episodes_binding_prosocial/2021_05_15/09_10_05'  # IMPORTANT!!!!!!!\n",
    "binding = True\n",
    "\n",
    "\n",
    "eval_episodes = 64\n",
    "# checkpoint_dir_name = 'checkpoint_1'\n",
    "checkpoint_dir_name = 'checkpoint_312'  # for 20K episodes\n",
    "# binding = True\n",
    "# default_cond_params = default_cond_params\n",
    "\n",
    "# root_path = '/home/alexander/ray_results/population_experiments/2021_04_20/14_01_26'\n",
    "# cond_params_list = list(cond_params_iter_pop_training())\n",
    "\n",
    "# root_path = '/home/alexander/ray_results/cross_play_20K_episodes_best_response_fixed_agent_0/2021_05_03/00_35_50'\n",
    "# root_path = '/home/alexander/ray_results/cross_play_20K_episodes_best_response_fixed_agent_1/2021_05_03/09_05_24'\n",
    "# cond_params_list = list(cond_params_iter())"
   ]
  },
  {
   "cell_type": "code",
   "execution_count": 67,
   "metadata": {},
   "outputs": [],
   "source": [
    "default_indices = []\n",
    "trial_info = []\n",
    "for i, trial_name in enumerate(os.listdir(root_path)):\n",
    "    trial_path = os.path.join(root_path, trial_name)\n",
    "#     print(trial_path)\n",
    "    if os.path.isdir(trial_path):\n",
    "        cur_trial_info = {}\n",
    "        cur_trial_info['params'] = pickle.load(open(os.path.join(trial_path, 'params.pkl'), 'rb'))\n",
    "        model_path = os.path.join(trial_path, checkpoint_dir_name, 'model.pth')\n",
    "        with open(model_path, 'rb') as f:\n",
    "            state = torch.load(f)\n",
    "        cur_trial_info['agents'] = []\n",
    "        for agent_i in range(2):\n",
    "            cur_trial_info['agents'].append(state['agent%s' % agent_i]['model_state'])  # either a single model or a list of population models\n",
    "        trial_info.append(cur_trial_info)\n",
    "        # disable for population training\n",
    "        if cur_trial_info['params']['cond_params'] == default_cond_params:  # if custom params == default params\n",
    "            default_indices.append(len(trial_info)-1)  # correspond to default_vs_default plays"
   ]
  },
  {
   "cell_type": "code",
   "execution_count": 68,
   "metadata": {},
   "outputs": [
    {
     "data": {
      "text/plain": [
       "130"
      ]
     },
     "execution_count": 68,
     "metadata": {},
     "output_type": "execute_result"
    }
   ],
   "source": [
    "len(matches['custom_vs_custom_1'])"
   ]
  },
  {
   "cell_type": "code",
   "execution_count": 39,
   "metadata": {},
   "outputs": [],
   "source": [
    "# [m['params']['cond_params'] for m in matches['custom_vs_custom_1']]"
   ]
  },
  {
   "cell_type": "code",
   "execution_count": 69,
   "metadata": {},
   "outputs": [],
   "source": [
    "matches = {}\n",
    "# matches['custom_vs_custom_1'] = [trial for trial in trial_info if (trial['params']['match_mode'] == 'custom_vs_custom_1')]\n",
    "# matches['custom_vs_custom_2'] = [trial for trial in trial_info if (trial['params']['match_mode'] == 'custom_vs_custom_2')]\n",
    "# matches['default_vs_custom'] = [trial for trial in trial_info if (trial['params']['match_mode'] == 'default_vs_custom')]\n",
    "# matches['custom_vs_default'] = [trial for trial in trial_info if (trial['params']['match_mode'] == 'custom_vs_default')]\n",
    "# disable for population training\n",
    "matches['default_vs_default'] = [trial_info[default_i] for default_i in default_indices]\n",
    "all_training_modes = list(set([trial['params']['match_mode'] for trial in trial_info]))\n",
    "\n",
    "for mode in all_training_modes:\n",
    "    matches[mode] = [trial for trial in trial_info if trial['params']['match_mode'] == mode]\n",
    "\n",
    "# now sort training matches for various regimes in the order prescribed by cond_params_list\n",
    "match_indices = defaultdict(list)\n",
    "for match_regime, match_trials in matches.items():\n",
    "# disable for population training\n",
    "    if match_regime == 'default_vs_default':\n",
    "        match_indices['default_vs_default'] = [list(range(len(matches['default_vs_default'])))\n",
    "                                               for cond_params_i in range(len(cond_params_list))]\n",
    "    else:\n",
    "        for cond_params_i, cond_params in enumerate(cond_params_list):\n",
    "#             eq_list = [(i, trial) for (i, trial) in enumerate(match_trials) if round_cond_params(trial['params']['cond_params']) == cond_params]\n",
    "#             print(cond_params)\n",
    "            eq_list = [(i, trial) for (i, trial) in enumerate(match_trials) if round_cond_params(trial['params']['cond_params']) == round_cond_params(cond_params)]\n",
    "#             print(cond_params)\n",
    "#             print(len(eq_list))\n",
    "            indices = [eq_trial[0] for eq_trial in eq_list]\n",
    "            match_indices[match_regime].append(indices)"
   ]
  },
  {
   "cell_type": "code",
   "execution_count": 70,
   "metadata": {},
   "outputs": [],
   "source": [
    "# matrices_list = []\n",
    "cond_params_i_list = [0,] + list(range(7, 14))  # must be synced to corresponding loop in eval\n",
    "matrix = np.zeros((len(cond_params_i_list)*5, len(cond_params_i_list)*5, 2))\n",
    "for run_i in range(5):\n",
    "    for run_j in range(5):\n",
    "    # args_list = []\n",
    "#     for agent_0_match_regime, agent_1_match_regime in (\n",
    "#            ('custom_vs_custom_1', 'custom_vs_custom_2'),  # include custom_vs_custom_2 agent 1 which isn't playing with others really.\n",
    "#     #        ('default_vs_default', 'default_vs_default'),  # kinda mirrors custom_vs_custom_1, default_vs_default with 0?\n",
    "\n",
    "#     #        ('custom_vs_custom_1', 'default_vs_default'),  # 2.1\n",
    "#     #        ('default_vs_default', 'custom_vs_custom_1'),  # 2.2\n",
    "\n",
    "#     #        ('default_vs_custom', 'custom_vs_custom_1'),  # 3.1  # includes default_vs_custom, don't have all the cells for it\n",
    "#     #                                                    ('custom_vs_custom_1', 'default_vs_custom'),  # 4.1  # this was disrupted by stop of computation!\n",
    "#     ):\n",
    "        agent_0_match_regime = 'custom_vs_custom_1'\n",
    "        agent_1_match_regime = 'custom_vs_custom_2'\n",
    "        len_sum = 0\n",
    "    #     cond_params_i_list = list(range(7, 14))\n",
    "        \n",
    "        mat0 = np.zeros((len(cond_params_i_list), len(cond_params_i_list)))\n",
    "        mat1 = np.zeros((len(cond_params_i_list), len(cond_params_i_list)))\n",
    "    #     for ind_0, cond_params_i_0 in enumerate([0,] + list(range(7, 14))):  # over all types of agents\n",
    "        for ind_0, cond_params_i_0 in enumerate(cond_params_i_list):  # over all types of agents\n",
    "            for ind_1, cond_params_i_1 in enumerate(cond_params_i_list):  # over all types of agents\n",
    "    #             trial_0_indices = match_indices[agent_0_match_regime][cond_params_i_0][2:3]\n",
    "    #             trial_1_indices = match_indices[agent_1_match_regime][cond_params_i_1][2:3]\n",
    "                trial_0_indices = match_indices[agent_0_match_regime][cond_params_i_0]\n",
    "                trial_1_indices = match_indices[agent_1_match_regime][cond_params_i_1]\n",
    "#                 print(trial_0_indices)\n",
    "#                 print(trial_1_indices)\n",
    "                eval_trials_list = [(trial_0_i, trial_1_i) for trial_0_i in trial_0_indices for trial_1_i in trial_1_indices]\n",
    "                len_sum += len(eval_trials_list)\n",
    "    #             print(trial_0_indices)\n",
    "    #             print(trial_1_indices)\n",
    "    #             if agent_0_match_regime == agent_1_match_regime:  # removing this clause completely!\n",
    "    #                 eval_trials_list = [(trial_0_i, trial_0_i) for trial_0_i in trial_0_indices]  # to match agents trained together\n",
    "    #             else:\n",
    "    #             print(agent_0_match_regime, agent_1_match_regime, cond_params_i_0, cond_params_i_1, len_sum, len(cur_res_dict))\n",
    "                \n",
    "#                 r0 = np.concatenate([inner['player0_share_of_max'] for inner in cur_res_dict[len_sum-len(eval_trials_list):len_sum]]).mean()\n",
    "#                 r1 = np.concatenate([inner['player1_share_of_max'] for inner in cur_res_dict[len_sum-len(eval_trials_list):len_sum]]).mean()\n",
    "                \n",
    "    #             print(len(cur_res_dict))\n",
    "    #             print(len_sum)\n",
    "    #             print(len(eval_trials_list))\n",
    "    #             print(len(cur_res_dict[len_sum-len(eval_trials_list):len_sum]))\n",
    "    #             print(agent_0_match_regime, agent_1_match_regime, cond_params_i_0, cond_params_i_1, r0, r1)\n",
    "\n",
    "                cur_res_dict = res_dict[(agent_0_match_regime, agent_1_match_regime), 0]\n",
    "#                 print(eval_trials_list)\n",
    "#                 print(run_i, run_j)\n",
    "#                 print((trial_0_indices[run_i], trial_1_indices[run_j]))\n",
    "                eval_trials_ind = eval_trials_list.index((trial_0_indices[run_i], trial_1_indices[run_j]))\n",
    "#                 r0 = cur_res_dict[len_sum - len(eval_trials_list) + eval_trials_ind]['player0_share_of_max'].mean()\n",
    "#                 r1 = cur_res_dict[len_sum - len(eval_trials_list) + eval_trials_ind]['player1_share_of_max'].mean()\n",
    "                r0 = cur_res_dict[len_sum - len(eval_trials_list) + eval_trials_ind][0]\n",
    "                r1 = cur_res_dict[len_sum - len(eval_trials_list) + eval_trials_ind][2]\n",
    "\n",
    "                matrix[run_i*len(cond_params_i_list)+ind_0, run_j*len(cond_params_i_list)+ind_1, 0] = r0\n",
    "                matrix[run_i*len(cond_params_i_list)+ind_0, run_j*len(cond_params_i_list)+ind_1, 1] = r1\n",
    "#                 mat0[ind_0, ind_1] = r0\n",
    "#                 mat1[ind_0, ind_1] = r1\n",
    "\n",
    "#         mat0 = mat0[1:8, 1:8]\n",
    "#         mat1 = mat1[1:8, 1:8]\n",
    "#         matrices_list.append(np.dstack((mat0, mat1)))\n",
    "        \n",
    "#             for trial_0_i, trial_1_i in eval_trials_list:\n",
    "#                 trial_0 = matches[agent_0_match_regime][trial_0_i]\n",
    "#                 trial_1 = matches[agent_1_match_regime][trial_1_i]\n",
    "\n",
    "#                 if 'default' in agent_0_match_regime.split('_vs_')[0]:\n",
    "#                     agent_0_params = default_cond_params\n",
    "#                 else:\n",
    "#                     agent_0_params = trial_0['params']['cond_params']\n",
    "#                 if 'default' in agent_1_match_regime.split('_vs_')[1]:\n",
    "#                     agent_1_params = default_cond_params\n",
    "#                 else:\n",
    "#                     agent_1_params = trial_1['params']['cond_params']\n",
    "\n",
    "#                 else:\n",
    "#                     args_list.append(((agent_0_match_regime, agent_1_match_regime), 0,\n",
    "#                                       (trial_0_i, trial_1_i), (agent_0_params, agent_1_params),))"
   ]
  },
  {
   "cell_type": "code",
   "execution_count": 71,
   "metadata": {},
   "outputs": [],
   "source": [
    "matrix = np.delete(matrix, [8*i for i in range(5)], axis=0)\n",
    "matrix = np.delete(matrix, [8*i for i in range(5)], axis=1)"
   ]
  },
  {
   "cell_type": "code",
   "execution_count": 72,
   "metadata": {},
   "outputs": [
    {
     "data": {
      "text/plain": [
       "(35, 35, 2)"
      ]
     },
     "execution_count": 72,
     "metadata": {},
     "output_type": "execute_result"
    }
   ],
   "source": [
    "matrix.shape"
   ]
  },
  {
   "cell_type": "code",
   "execution_count": 55,
   "metadata": {},
   "outputs": [],
   "source": [
    "# pickle.dump(matrix, open('empirical_game_matrices_prosociality_coeff_0.3', 'wb'))\n",
    "pickle.dump(matrix, open('empirical_game_matrices_prosociality_coeff_1.0', 'wb'))"
   ]
  },
  {
   "cell_type": "code",
   "execution_count": 99,
   "metadata": {},
   "outputs": [
    {
     "data": {
      "text/plain": [
       "(35, 35, 2)"
      ]
     },
     "execution_count": 99,
     "metadata": {},
     "output_type": "execute_result"
    }
   ],
   "source": [
    "matrix.shape"
   ]
  },
  {
   "cell_type": "code",
   "execution_count": null,
   "metadata": {},
   "outputs": [],
   "source": []
  },
  {
   "cell_type": "code",
   "execution_count": 2,
   "metadata": {},
   "outputs": [],
   "source": [
    "m = pickle.load(open('empirical_game_matrices_prosociality_coeff_0.3', 'rb'))"
   ]
  },
  {
   "cell_type": "code",
   "execution_count": 3,
   "metadata": {},
   "outputs": [
    {
     "data": {
      "text/plain": [
       "(35, 35, 2)"
      ]
     },
     "execution_count": 3,
     "metadata": {},
     "output_type": "execute_result"
    }
   ],
   "source": [
    "m.shape"
   ]
  },
  {
   "cell_type": "code",
   "execution_count": 4,
   "metadata": {},
   "outputs": [
    {
     "data": {
      "text/plain": [
       "0.46033714711666107"
      ]
     },
     "execution_count": 4,
     "metadata": {},
     "output_type": "execute_result"
    }
   ],
   "source": [
    "np.diagonal(m[1:7, 8:14, :]).mean()"
   ]
  },
  {
   "cell_type": "code",
   "execution_count": 108,
   "metadata": {},
   "outputs": [
    {
     "data": {
      "text/plain": [
       "0.45179340889056524"
      ]
     },
     "execution_count": 108,
     "metadata": {},
     "output_type": "execute_result"
    }
   ],
   "source": [
    "m[1:7, 8:14, :][np.where(~np.eye(6, dtype=bool))].mean()"
   ]
  },
  {
   "cell_type": "code",
   "execution_count": 5,
   "metadata": {},
   "outputs": [
    {
     "data": {
      "text/plain": [
       "(6, 6, 2)"
      ]
     },
     "execution_count": 5,
     "metadata": {},
     "output_type": "execute_result"
    }
   ],
   "source": [
    "m[1:7, 8:14, :].shape"
   ]
  },
  {
   "cell_type": "code",
   "execution_count": 8,
   "metadata": {
    "collapsed": true,
    "jupyter": {
     "outputs_hidden": true
    }
   },
   "outputs": [
    {
     "data": {
      "text/plain": [
       "<AxesSubplot:>"
      ]
     },
     "execution_count": 8,
     "metadata": {},
     "output_type": "execute_result"
    },
    {
     "data": {
      "image/png": "[encoded data removed]",
      "text/plain": [
       "<Figure size 432x288 with 2 Axes>"
      ]
     },
     "metadata": {},
     "output_type": "display_data"
    }
   ],
   "source": [
    "sns.heatmap(m[1:7, 8:14, 0])"
   ]
  },
  {
   "cell_type": "code",
   "execution_count": 7,
   "metadata": {},
   "outputs": [
    {
     "data": {
      "text/plain": [
       "<AxesSubplot:>"
      ]
     },
     "execution_count": 7,
     "metadata": {},
     "output_type": "execute_result"
    },
    {
     "data": {
      "image/png": "[encoded data removed]",
      "text/plain": [
       "<Figure size 432x288 with 2 Axes>"
      ]
     },
     "metadata": {},
     "output_type": "display_data"
    }
   ],
   "source": [
    "sns.heatmap(m[1:7, 8:14, 1])"
   ]
  },
  {
   "cell_type": "code",
   "execution_count": 9,
   "metadata": {},
   "outputs": [
    {
     "data": {
      "text/plain": [
       "<AxesSubplot:>"
      ]
     },
     "execution_count": 9,
     "metadata": {},
     "output_type": "execute_result"
    },
    {
     "data": {
      "image/png": "[encoded data removed]",
      "text/plain": [
       "<Figure size 432x288 with 2 Axes>"
      ]
     },
     "metadata": {},
     "output_type": "display_data"
    }
   ],
   "source": [
    "sns.heatmap(m[1:7, 8:14, :].sum(axis=2))"
   ]
  },
  {
   "cell_type": "code",
   "execution_count": null,
   "metadata": {},
   "outputs": [],
   "source": []
  },
  {
   "cell_type": "markdown",
   "metadata": {},
   "source": [
    "### Syncing to my plot values"
   ]
  },
  {
   "cell_type": "code",
   "execution_count": 40,
   "metadata": {},
   "outputs": [
    {
     "name": "stdout",
     "output_type": "stream",
     "text": [
      "(0.651958, 0.57897437, 0.5209278, 0.4904595, 0.44816065, 0.3652433) (0.2946116, 0.30257654, 0.31327945, 0.29468426, 0.29970247, 0.25992543)\n"
     ]
    }
   ],
   "source": [
    "print(x[1:7], y[1:7])  # default vs custom, starts from 1"
   ]
  },
  {
   "cell_type": "code",
   "execution_count": 48,
   "metadata": {},
   "outputs": [],
   "source": [
    "# [mat0[0, i] for i in range(1, mat0.shape[0])], [mat1[0, i] for i in range(1, mat1.shape[0])]  # NO, doesn't match at all!"
   ]
  },
  {
   "cell_type": "code",
   "execution_count": 78,
   "metadata": {},
   "outputs": [
    {
     "data": {
      "text/plain": [
       "array([-0.02253021, -0.00537897, -0.08513601, -0.03813672, -0.09787542,\n",
       "        0.00109933])"
      ]
     },
     "execution_count": 78,
     "metadata": {},
     "output_type": "execute_result"
    }
   ],
   "source": [
    "np.array([mat0[0, i] for i in range(1, mat0.shape[0])]) - np.array((0.651958, 0.57897437, 0.5209278, 0.4904595, 0.44816065, 0.3652433))"
   ]
  },
  {
   "cell_type": "code",
   "execution_count": 59,
   "metadata": {},
   "outputs": [
    {
     "data": {
      "text/plain": [
       "array([ 0.00567922,  0.00254023, -0.0408254 , -0.00701216, -0.046008  ,\n",
       "       -0.00201893])"
      ]
     },
     "execution_count": 59,
     "metadata": {},
     "output_type": "execute_result"
    }
   ],
   "source": [
    "np.array([mat1[0, i] for i in range(1, mat1.shape[0])]) - np.array((0.2946116, 0.30257654, 0.31327945, 0.29468426, 0.29970247, 0.25992543))"
   ]
  },
  {
   "cell_type": "code",
   "execution_count": 79,
   "metadata": {},
   "outputs": [
    {
     "name": "stdout",
     "output_type": "stream",
     "text": [
      "[-0.02253021 -0.00537897 -0.08513601 -0.03813672 -0.09787542  0.00109933]\n",
      "[ 0.00168698  0.02435433 -0.04531731 -0.02991992 -0.00760847  0.0362622 ]\n",
      "[ 0.02784054  0.01059335 -0.02986617  0.01934809 -0.08744234  0.00439294]\n",
      "[ 0.04456924 -0.04036415 -0.11257233 -0.11758724 -0.10392285 -0.01071002]\n",
      "[-0.00070424 -0.06753338 -0.00384117  0.00927052  0.01028573  0.05523045]\n"
     ]
    }
   ],
   "source": [
    "for i in range(5):\n",
    "    mat0 = matrix[7*i:7*(i+1), 7*i:7*(i+1), 0]\n",
    "    mat1 = matrix[7*i:7*(i+1), 7*i:7*(i+1), 1]\n",
    "    print(np.array([mat0[0, i] for i in range(1, mat0.shape[0])]) - np.array((0.651958, 0.57897437, 0.5209278, 0.4904595, 0.44816065, 0.3652433)))"
   ]
  },
  {
   "cell_type": "code",
   "execution_count": null,
   "metadata": {},
   "outputs": [],
   "source": []
  },
  {
   "cell_type": "code",
   "execution_count": 41,
   "metadata": {},
   "outputs": [
    {
     "name": "stdout",
     "output_type": "stream",
     "text": [
      "(0.7376215, 0.6129167, 0.54170287, 0.4994951, 0.46781248, 0.4270572, 0.42730743) (0.30001095, 0.39960298, 0.41811663, 0.42247146, 0.40760374, 0.40898776, 0.3982173)\n"
     ]
    }
   ],
   "source": [
    "print(x[7:14], y[7:14])  # custom vs custom, starts from 0"
   ]
  },
  {
   "cell_type": "code",
   "execution_count": 54,
   "metadata": {},
   "outputs": [
    {
     "data": {
      "text/plain": [
       "array([-0.00565852,  0.006948  ,  0.0041576 , -0.00838591,  0.00975188,\n",
       "        0.00553927, -0.00058437])"
      ]
     },
     "execution_count": 54,
     "metadata": {},
     "output_type": "execute_result"
    }
   ],
   "source": [
    "np.array([mat0[i, i] for i in range(mat0.shape[0])]) - np.array((0.7376215, 0.6129167, 0.54170287, 0.4994951, 0.46781248, 0.4270572, 0.42730743))"
   ]
  },
  {
   "cell_type": "code",
   "execution_count": 55,
   "metadata": {},
   "outputs": [
    {
     "data": {
      "text/plain": [
       "array([ 0.00037396,  0.00158039, -0.0049333 , -0.00207007,  0.0024046 ,\n",
       "        0.00250223,  0.00142713])"
      ]
     },
     "execution_count": 55,
     "metadata": {},
     "output_type": "execute_result"
    }
   ],
   "source": [
    "np.array([mat1[i, i] for i in range(mat1.shape[0])]) - np.array((0.30001095, 0.39960298, 0.41811663, 0.42247146, 0.40760374, 0.40898776, 0.3982173))"
   ]
  },
  {
   "cell_type": "code",
   "execution_count": null,
   "metadata": {},
   "outputs": [],
   "source": [
    "# Oh OK. Actually it's all within the std now! Hurray!\n",
    "# So it's closer to what I had on the plot for custom vs custom, but there's also much less variation between runs for custom vs custom. So it's OK."
   ]
  },
  {
   "cell_type": "code",
   "execution_count": null,
   "metadata": {},
   "outputs": [],
   "source": []
  },
  {
   "cell_type": "markdown",
   "metadata": {},
   "source": [
    "## Bootstrap"
   ]
  },
  {
   "cell_type": "code",
   "execution_count": 63,
   "metadata": {},
   "outputs": [],
   "source": [
    "# bootstrap (mat0, mat1) 20 times -> 20 replicate bimatrices\n",
    "# for each replicate bimatrix, compute meta-policy for principal 0\n",
    "# for each replicate map meta-policy for bootstrapped matrix to meta-policy for original matrix"
   ]
  },
  {
   "cell_type": "code",
   "execution_count": 57,
   "metadata": {},
   "outputs": [],
   "source": [
    "# replicates_list = []\n",
    "# for replicate_i in range(40):\n",
    "#     x_indices = np.random.choice(list(range(mat0.shape[0])), size=mat0.shape[0], replace=True)\n",
    "#     y_indices = np.random.choice(list(range(mat0.shape[1])), size=mat0.shape[1], replace=True)\n",
    "#     cur_mat0 = mat0[x_indices, :][:, y_indices]\n",
    "#     cur_mat1 = mat1[x_indices, :][:, y_indices]\n",
    "#     replicates_list.append((cur_mat0, cur_mat1, x_indices, y_indices))\n",
    "# pickle.dump(replicates_list, open('replicates_list.pickle', 'wb'))"
   ]
  },
  {
   "cell_type": "code",
   "execution_count": 85,
   "metadata": {},
   "outputs": [],
   "source": [
    "outer_list = []\n",
    "for i in range(5):\n",
    "    inner_list = []\n",
    "    cur_mat = matrix[7*i:7*(i+1), 7*i:7*(i+1), :]\n",
    "    for replicate_i in range(20):\n",
    "        x_indices = np.random.choice(list(range(cur_mat.shape[0])), size=cur_mat.shape[0], replace=True)\n",
    "        y_indices = np.random.choice(list(range(cur_mat.shape[1])), size=cur_mat.shape[1], replace=True)\n",
    "        bootstrapped = cur_mat[x_indices, :, :][:, y_indices, :]\n",
    "        inner_list.append((bootstrapped, x_indices, y_indices))\n",
    "    outer_list.append(inner_list)\n",
    "pickle.dump(outer_list, open('bootstrapped_replicates_prosociality_coeff_0.3', 'wb'))"
   ]
  },
  {
   "cell_type": "markdown",
   "metadata": {},
   "source": [
    "Example of using it:"
   ]
  },
  {
   "cell_type": "code",
   "execution_count": 61,
   "metadata": {},
   "outputs": [],
   "source": [
    "replicates_list = pickle.load(open('replicates_list.pickle', 'rb'))\n",
    "principal0_replicates = replicates_list[:20]\n",
    "principal1_replicates = replicates_list[20:]\n",
    "\n",
    "principal0_meta_policies = []\n",
    "for (mat0, mat1, x_indices, y_indices) in principal0_replicates:\n",
    "    # replace these with meta-solutions for bootstrapped matrices mat0 and mat1\n",
    "    dist0 = np.random.dirichlet(np.ones(mat0.shape[0]),size=1)[0]\n",
    "    dist1 = np.random.dirichlet(np.ones(mat0.shape[1]),size=1)[0]\n",
    "\n",
    "    dist0_orig_space = np.zeros_like(dist0)\n",
    "    for i, val in enumerate(dist0):\n",
    "        orig_x_index = x_indices[i]\n",
    "        dist0_orig_space[orig_x_index] += val\n",
    "    principal0_meta_policies.append(dist0_orig_space)\n",
    "    \n",
    "principal1_meta_policies = []\n",
    "for (mat0, mat1, x_indices, y_indices) in principal1_replicates:\n",
    "    # replace these with meta-solutions for bootstrapped matrices mat0 and mat1\n",
    "    dist0 = np.random.dirichlet(np.ones(mat0.shape[0]),size=1)[0]\n",
    "    dist1 = np.random.dirichlet(np.ones(mat0.shape[1]),size=1)[0]\n",
    "\n",
    "    dist1_orig_space = np.zeros_like(dist1)\n",
    "    for i, val in enumerate(dist1):\n",
    "        orig_y_index = y_indices[i]\n",
    "        dist1_orig_space[orig_y_index] += val\n",
    "    principal1_meta_policies.append(dist1_orig_space)"
   ]
  }
 ],
 "metadata": {
  "kernelspec": {
   "display_name": "Python 3",
   "language": "python",
   "name": "python3"
  },
  "language_info": {
   "codemirror_mode": {
    "name": "ipython",
    "version": 3
   },
   "file_extension": ".py",
   "mimetype": "text/x-python",
   "name": "python",
   "nbconvert_exporter": "python",
   "pygments_lexer": "ipython3",
   "version": "3.8.5"
  }
 },
 "nbformat": 4,
 "nbformat_minor": 4
}
